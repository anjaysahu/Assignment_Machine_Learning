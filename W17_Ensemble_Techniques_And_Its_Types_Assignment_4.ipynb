{
  "nbformat": 4,
  "nbformat_minor": 0,
  "metadata": {
    "colab": {
      "provenance": []
    },
    "kernelspec": {
      "name": "python3",
      "display_name": "Python 3"
    },
    "language_info": {
      "name": "python"
    }
  },
  "cells": [
    {
      "cell_type": "markdown",
      "source": [
        "Q1. What is Random Forest Regressor?"
      ],
      "metadata": {
        "id": "sItF11wUVUrh"
      }
    },
    {
      "cell_type": "markdown",
      "source": [
        "A powerful machine learning algorithm for predicting numerical values (regression). It's an ensemble method, meaning it combines multiple decision trees to make predictions. Each tree in the forest is built using a random subset of the data and features. The final prediction is the average of all the individual tree predictions.\n",
        "\n"
      ],
      "metadata": {
        "id": "MN6fC5xrVUcW"
      }
    },
    {
      "cell_type": "markdown",
      "source": [
        "Q2. How does Random Forest Regressor reduce the risk of overfitting?"
      ],
      "metadata": {
        "id": "Dr5TNuAlVUZc"
      }
    },
    {
      "cell_type": "markdown",
      "source": [
        "Random Forest Regressor employs several techniques to mitigate the risk of overfitting:\n",
        "- Random Forest creates multiple decision trees, each trained on a different random subset of the training data.\n",
        "- At each node of a decision tree, only a random subset of features is considered for splitting.\n",
        "- The final prediction is the average of the predictions from all the individual trees.\n",
        "- By limiting the maximum depth of each tree, we can prevent overfitting by avoiding overly complex models that might memorize the training data.\n",
        "- Careful tuning of hyperparameters like the number of trees, maximum depth, and minimum samples per leaf can further help to balance bias and variance and prevent overfitting."
      ],
      "metadata": {
        "id": "9vMlDEDXVUWV"
      }
    },
    {
      "cell_type": "markdown",
      "source": [
        "Q3. How does Random Forest Regressor aggregate the predictions of multiple decision trees?"
      ],
      "metadata": {
        "id": "SdB9Z6v3VUUT"
      }
    },
    {
      "cell_type": "markdown",
      "source": [
        "Random Forest Regressor aggregates the predictions of multiple decision trees by averaging their individual predictions."
      ],
      "metadata": {
        "id": "s7ra7-MYVUQr"
      }
    },
    {
      "cell_type": "markdown",
      "source": [
        "Q4. What are the hyperparameters of Random Forest Regressor?"
      ],
      "metadata": {
        "id": "IqYL3eJVVUOv"
      }
    },
    {
      "cell_type": "markdown",
      "source": [
        "Here are the key hyperparameters of Random Forest Regressor:\n",
        "1. n_estimators\n",
        "2. max_depth\n",
        "3. min_samples_split\n",
        "4. min_samples_leaf\n",
        "5. max_features\n",
        "6. bootstrap\n",
        "7. criterion"
      ],
      "metadata": {
        "id": "xhOjL0FfWh72"
      }
    },
    {
      "cell_type": "markdown",
      "source": [
        "Q5. What is the difference between Random Forest Regressor and Decision Tree Regressor?"
      ],
      "metadata": {
        "id": "zjJdl7SNWh5B"
      }
    },
    {
      "cell_type": "markdown",
      "source": [
        "While both algorithms are used for regression tasks, they differ significantly in their underlying structure and approach:     \n",
        "**Decision Tree Regressor**\n",
        "- A single tree-like model of decisions and their possible consequences.\n",
        "- Easy to visualize and interpret.\n",
        "- Can be overly sensitive to noise in the training data, leading to poor generalization performance.\n",
        "\n",
        "**Random Forest Regressor**\n",
        "- Combines multiple decision trees to make predictions.\n",
        "- By averaging the predictions of multiple trees, it reduces the risk of overfitting.\n",
        "- Often provides more accurate and robust predictions compared to a single decision tree.\n",
        "- More complex due to the ensemble nature, making it harder to understand the decision-making process.\n",
        "\n",
        "\n"
      ],
      "metadata": {
        "id": "PWlLdIsNWh2g"
      }
    },
    {
      "cell_type": "markdown",
      "source": [
        "Q6. What are the advantages and disadvantages of Random Forest Regressor?"
      ],
      "metadata": {
        "id": "DAr6Yl9vWhz9"
      }
    },
    {
      "cell_type": "markdown",
      "source": [
        "### Advantages of Random Forest Regressor:\n",
        "- Random Forest often achieves high accuracy compared to other regression algorithms, especially for complex datasets.\n",
        "- By averaging the predictions of multiple trees, it effectively reduces the risk of overfitting.\n",
        "- Random Forest can handle missing values without requiring imputation.\n",
        "- It can provide a measure of feature importance, helping to identify the most relevant features.\n",
        "\n",
        "### Disadvantages of Random Forest Regressor:\n",
        "- Training a Random Forest can be computationally expensive, especially for large datasets and deep trees.\n",
        "- While it can provide feature importance, the overall model can be difficult to interpret compared to simpler models like linear regression.\n",
        "- While less prone to overfitting than a single decision tree, it can still overfit if not tuned properly."
      ],
      "metadata": {
        "id": "u-bUDVU3WhxJ"
      }
    },
    {
      "cell_type": "markdown",
      "source": [
        "Q7. What is the output of Random Forest Regressor?"
      ],
      "metadata": {
        "id": "wFnML__vWhsq"
      }
    },
    {
      "cell_type": "markdown",
      "source": [
        "The output of a Random Forest Regressor is a continuous numerical value. This value represents the predicted value for a given input."
      ],
      "metadata": {
        "id": "q22CGsxVWhqV"
      }
    },
    {
      "cell_type": "markdown",
      "source": [
        "Q8. Can Random Forest Regressor be used for classification tasks?"
      ],
      "metadata": {
        "id": "iqEMBxwlYjYJ"
      }
    },
    {
      "cell_type": "markdown",
      "source": [
        "No, Random Forest Regressor is specifically designed for regression tasks. It predicts a continuous numerical value."
      ],
      "metadata": {
        "id": "UaBjmRmKYjEW"
      }
    }
  ]
}