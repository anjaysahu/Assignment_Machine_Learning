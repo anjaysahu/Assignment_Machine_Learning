{
  "nbformat": 4,
  "nbformat_minor": 0,
  "metadata": {
    "colab": {
      "provenance": []
    },
    "kernelspec": {
      "name": "python3",
      "display_name": "Python 3"
    },
    "language_info": {
      "name": "python"
    }
  },
  "cells": [
    {
      "cell_type": "markdown",
      "source": [
        "Q1. What is an ensemble technique in machine learning?"
      ],
      "metadata": {
        "id": "EfR1J82awZ0w"
      }
    },
    {
      "cell_type": "markdown",
      "source": [
        "An ensemble technique in machine learning is a powerful approach that combines multiple models to improve overall predictive performance."
      ],
      "metadata": {
        "id": "u8Frmv5uwZuc"
      }
    },
    {
      "cell_type": "markdown",
      "source": [
        "Q2. Why are ensemble techniques used in machine learning?"
      ],
      "metadata": {
        "id": "-dAOPPTUwZng"
      }
    },
    {
      "cell_type": "markdown",
      "source": [
        "Ensemble techniques are used in machine learning for several reasons:\n",
        "\n",
        "- By combining multiple models, ensemble methods can reduce the variance of individual models, leading to more stable and accurate predictions.\n",
        "- Ensemble methods often generalize better to unseen data than individual models, as they are less likely to overfit the training data.\n",
        "- Ensemble methods are more robust to noise and outliers in the data, as the impact of any single model is reduced.\n",
        "- Ensemble methods have been successfully applied in many real-world applications, such as medical diagnosis, financial forecasting, and natural language processing.\n",
        "\n",
        "\n"
      ],
      "metadata": {
        "id": "QEZZrgLHwZf5"
      }
    },
    {
      "cell_type": "markdown",
      "source": [
        "Q3. What is bagging?"
      ],
      "metadata": {
        "id": "JcvKetNCwZZU"
      }
    },
    {
      "cell_type": "markdown",
      "source": [
        "Bagging, short for Bootstrap Aggregating, is an ensemble learning technique used to improve the stability and accuracy of machine learning models. It works by creating multiple models on different subsets of the training data and then combining their predictions."
      ],
      "metadata": {
        "id": "7bbTgGANwZSk"
      }
    },
    {
      "cell_type": "markdown",
      "source": [
        "Q4. What is boosting?"
      ],
      "metadata": {
        "id": "vzxIYBTCwZKy"
      }
    },
    {
      "cell_type": "markdown",
      "source": [
        "Boosting is an ensemble learning technique that combines multiple weak learners to create a strong learner. Unlike bagging, which trains models independently, boosting trains models sequentially, with each model focusing on correcting the errors of the previous ones."
      ],
      "metadata": {
        "id": "JvTQdz-iwZCh"
      }
    },
    {
      "cell_type": "markdown",
      "source": [
        "Q5. What are the benefits of using ensemble techniques?"
      ],
      "metadata": {
        "id": "3_3Nq9q7wY6_"
      }
    },
    {
      "cell_type": "markdown",
      "source": [
        "Ensemble techniques are used in machine learning for several reasons:\n",
        "\n",
        "- By combining multiple models, ensemble methods can reduce the variance of individual models, leading to more stable and accurate predictions.\n",
        "- Ensemble methods often generalize better to unseen data than individual models, as they are less likely to overfit the training data.\n",
        "- Ensemble methods are more robust to noise and outliers in the data, as the impact of any single model is reduced.\n",
        "- Ensemble methods have been successfully applied in many real-world applications, such as medical diagnosis, financial forecasting, and natural language processing.\n",
        "\n",
        "\n"
      ],
      "metadata": {
        "id": "qCWVEYyowYxT"
      }
    },
    {
      "cell_type": "markdown",
      "source": [
        "Q6. Are ensemble techniques always better than individual models?"
      ],
      "metadata": {
        "id": "KklH_nOuwYlV"
      }
    },
    {
      "cell_type": "markdown",
      "source": [
        "No, ensemble techniques are not always better than individual models."
      ],
      "metadata": {
        "id": "veTYc93NwYTy"
      }
    },
    {
      "cell_type": "markdown",
      "source": [
        "Q7. How is the confidence interval calculated using bootstrap?"
      ],
      "metadata": {
        "id": "nRaf5aCa19F3"
      }
    },
    {
      "cell_type": "markdown",
      "source": [
        "Bootstrap is a powerful statistical technique that allows us to estimate the uncertainty or variability of a statistic, such as a mean or standard deviation. It's particularly useful when traditional parametric methods are not applicable or when the sample size is small."
      ],
      "metadata": {
        "id": "UZPo5o2z180z"
      }
    },
    {
      "cell_type": "markdown",
      "source": [
        "Q8. How does bootstrap work and What are the steps involved in bootstrap?"
      ],
      "metadata": {
        "id": "GfwUdhtG18tX"
      }
    },
    {
      "cell_type": "markdown",
      "source": [
        "Bootstrap is a powerful statistical technique that allows us to estimate the uncertainty or variability of a statistic, such as a mean or standard deviation. It's particularly useful when traditional parametric methods are not applicable or when the sample size is small.      \n",
        "\n",
        "### Here's a step-by-step breakdown of how to implement the bootstrap method:\n",
        "- Take a random sample of the same size as the original dataset.\n",
        "- Importantly, this sampling is done with replacement. This means that a data point can be selected multiple times in a single bootstrap sample.\n",
        "- Calculate the desired statistic (e.g., mean, median, standard deviation) for the newly created bootstrap sample.\n",
        "- Repeat steps 1 and 2 many times (e.g., 1000 times) to create a large number of bootstrap samples and their corresponding statistics.\n",
        "- Sort the calculated statistics from step 3.\n",
        "- For a 95% confidence interval, find the 2.5th and 97.5th percentiles of the sorted statistics.\n",
        "- These percentiles form the lower and upper bounds of the confidence interval.\n",
        "\n",
        ""
      ],
      "metadata": {
        "id": "TcGk2xLY2PFK"
      }
    },
    {
      "cell_type": "markdown",
      "source": [
        "Q9. A researcher wants to estimate the mean height of a population of trees. They measure the height of a\n",
        "sample of 50 trees and obtain a mean height of 15 meters and a standard deviation of 2 meters. Use\n",
        "bootstrap to estimate the 95% confidence interval for the population mean height."
      ],
      "metadata": {
        "id": "vdxN9Kbi2PCL"
      }
    },
    {
      "cell_type": "markdown",
      "source": [
        "We have a sample of 50 trees with a mean height of 15 meters and a standard deviation of 2 meters. We want to estimate the true population mean height with a 95% confidence interval using bootstrapping.\n",
        "\n",
        "### Steps Involved:\n",
        "\n",
        "- Randomly sample 50 trees with replacement from the original sample of 50 trees. This means some trees might be selected multiple times, while others might not be selected at all.\n",
        "- Repeat this process a large number of times (e.g., 1000 times) to create 1000 bootstrap samples.\n",
        "- For each of the 1000 bootstrap samples, calculate the mean height.\n",
        "- Sort the 1000 calculated means.\n",
        "- Find the 2.5th percentile and the 97.5th percentile of these sorted means.\n",
        "- These two values will be the lower and upper bounds of the 95% confidence interval.\n",
        "\n",
        "### Interpretation of the Confidence Interval:\n",
        "The resulting 95% confidence interval will give us a range of values within which we are 95% confident that the true population mean height lies.\n",
        "\n",
        "\n"
      ],
      "metadata": {
        "id": "t58toaIx2O-G"
      }
    },
    {
      "cell_type": "code",
      "execution_count": null,
      "metadata": {
        "id": "JnEGTzCSt1OF"
      },
      "outputs": [],
      "source": []
    }
  ]
}