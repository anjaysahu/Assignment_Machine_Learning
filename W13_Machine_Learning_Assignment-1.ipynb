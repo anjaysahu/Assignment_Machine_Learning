{
 "cells": [
  {
   "cell_type": "markdown",
   "id": "68fab95d-9ba2-4e8b-abeb-513adfd32d92",
   "metadata": {},
   "source": [
    "Q1: Explain the following with an example :  \n",
    "\n",
    "1. Artificial Intelligence\n",
    "2. Machine Learning\n",
    "3. Deep Learning"
   ]
  },
  {
   "cell_type": "markdown",
   "id": "5eb873c6-550f-469a-b611-de469bc41e84",
   "metadata": {},
   "source": [
    "#### Answer - "
   ]
  },
  {
   "cell_type": "markdown",
   "id": "e6657ee7-d5cb-4275-bb55-321713b57d25",
   "metadata": {},
   "source": [
    "**1. Artificial Intelligence -** AI is a smart application that can do things without human interference.   \n",
    "**Example -** Self driving car\n",
    "\n",
    "**2. Machine Learning -** Machine Learning provides stat tools which can observe, analyze the data and predicte models.   \n",
    "**Example -** Netflix, Flipkart, Youtube Recomendation System  \n",
    "\n",
    "**3. Deep Learning -** Deep Learning mimics the human brain.  \n",
    "**Example -** Image Recognition"
   ]
  },
  {
   "cell_type": "code",
   "execution_count": null,
   "id": "b1c41e2b-9f07-42de-9b4b-b0891fb2d76a",
   "metadata": {},
   "outputs": [],
   "source": []
  },
  {
   "cell_type": "markdown",
   "id": "1be6067b-4793-4e03-863a-62fa122cbecf",
   "metadata": {},
   "source": [
    "Q2: What is supervised learning? List some examples of supervised learning."
   ]
  },
  {
   "cell_type": "markdown",
   "id": "0337cf04-5892-4beb-b417-92647d2f640f",
   "metadata": {},
   "source": [
    "#### Answer - "
   ]
  },
  {
   "cell_type": "markdown",
   "id": "9da9ed3c-4c7e-4db6-a65c-74ebcf9eccb8",
   "metadata": {},
   "source": [
    "In supervised learning, we train a model based on input and output.   \n",
    "**Example -**   \n",
    "1. **Spam Detection:** Classifying emails as spam or not spam.  \n",
    "2. **Image Classification:** Identifying objects in images.  \n",
    "3. **Speech Recognition:** Converting spoken language into text."
   ]
  },
  {
   "cell_type": "markdown",
   "id": "c8c52539-7a3b-4e98-9130-727262f5e2c8",
   "metadata": {},
   "source": [
    "Q3: What is unsupervised learning? List some examples of unsupervised learning."
   ]
  },
  {
   "cell_type": "markdown",
   "id": "18641610-4fec-430e-beb8-25e892e15233",
   "metadata": {},
   "source": [
    "#### Answer - "
   ]
  },
  {
   "cell_type": "markdown",
   "id": "e74c4856-9647-4433-ad46-0c3ad90afd98",
   "metadata": {},
   "source": [
    "In unsupervised learning, we make a group of similar data.   \n",
    "**Example -**   \n",
    "1. **Clustering:** Grouping data points into clusters based on similarity.\n",
    "2. **Dimensionality Reduction:** Reducing the number of random variables under consideration."
   ]
  },
  {
   "cell_type": "markdown",
   "id": "4171e1f2-accb-4c02-8dec-1a8f2005a0a1",
   "metadata": {},
   "source": [
    "Q4: What is the difference between AI, ML, DL and DS?"
   ]
  },
  {
   "cell_type": "markdown",
   "id": "ac769547-0000-425d-a47d-3a500d6c2767",
   "metadata": {},
   "source": [
    "#### Answer - "
   ]
  },
  {
   "cell_type": "markdown",
   "id": "e09dbb0d-903f-4972-93dd-71196424abf7",
   "metadata": {},
   "source": [
    "AI is the broader field of developing intelligent machines, ML is a subset of AI that involves training algorithms to learn from data, DL is a subset of ML that uses ANNs to model complex patterns in data, and DS is an interdisciplinary field that involves extracting insights from data."
   ]
  },
  {
   "cell_type": "markdown",
   "id": "5b06d901-c09e-4869-b987-3d0fc7055a8a",
   "metadata": {},
   "source": [
    "Q5: What are the main differences between supervised, unsupervised, and semi-supervised learning?"
   ]
  },
  {
   "cell_type": "markdown",
   "id": "52a1b272-a63f-41f8-956c-96c24ae594a5",
   "metadata": {},
   "source": [
    "#### Answer - "
   ]
  },
  {
   "cell_type": "markdown",
   "id": "bca0b8c3-886b-4351-82a7-d90f5ff8cbc8",
   "metadata": {},
   "source": [
    "Supervised learning models consume data that has been prelabeled by humans. Unsupervised learning models discover patterns in data that hasn't been previously labeled. Semi-supervised learning models involve an iterative process that works with both labeled and unlabeled data."
   ]
  },
  {
   "cell_type": "markdown",
   "id": "04b769ac-6fb5-4c71-9cc8-76e0665017c3",
   "metadata": {},
   "source": [
    "Q6: What is train, test and validation split? Explain the importance of each term."
   ]
  },
  {
   "cell_type": "markdown",
   "id": "b5bfb96b-da8d-4203-b1f1-6fd20b6c62f6",
   "metadata": {},
   "source": [
    "#### Answer - "
   ]
  },
  {
   "cell_type": "markdown",
   "id": "c49e6eea-e7a3-4034-af47-a209a538ee23",
   "metadata": {},
   "source": [
    "**1. Training Set:** The training set is a subset of the dataset used to train the model. It consists of input-output pairs (labeled data) on which the model learns patterns.  \n",
    "\n",
    "**Importance:** The training set is essential because it is used by the model to learn the relationships between input features and their corresponding outputs.\n",
    "\n",
    "**2. Test Set:** The test set is a subset of the dataset that is used to evaluate the performance of the model after it has been trained.  \n",
    "\n",
    "**Importance:** The test set serves as an unbiased estimate of how well the model will generalize to new, unseen data.\n",
    "\n",
    "**3. Validation Set:** The validation set is another subset of the data, separate from the training and test sets, used to tune hyperparameters and select the best model among different models or variations of the same model.\n",
    "\n",
    "**Importance:** The validation set allows for unbiased assessment of these choices by providing a measure of how well a particular configuration of the model generalizes to unseen data."
   ]
  },
  {
   "cell_type": "markdown",
   "id": "79461a74-f344-478a-a3c6-12c399a99371",
   "metadata": {},
   "source": [
    "Q7: How can unsupervised learning be used in anomaly detecion?"
   ]
  },
  {
   "cell_type": "markdown",
   "id": "52dbaadc-bd4c-4478-bbed-4f219e2115be",
   "metadata": {},
   "source": [
    "#### Answer - "
   ]
  },
  {
   "cell_type": "markdown",
   "id": "731921e7-3001-412e-9eec-0364738ac092",
   "metadata": {},
   "source": [
    "Unsupervised learning is particularly useful in anomaly detection, where the goal is to identify rare or unusual patterns in data that do not conform to expected behavior. This is especially valuable in situations where labeled examples of anomalies are scarce or nonexistent."
   ]
  },
  {
   "cell_type": "markdown",
   "id": "b2265c15-84c4-4775-b8c2-620529076b9e",
   "metadata": {},
   "source": [
    "Q8: List down some commonly used supervised learning algorithms and unsupervised learning algorithms."
   ]
  },
  {
   "cell_type": "markdown",
   "id": "ec7ed84e-4dad-408f-bc16-ac143699c6a5",
   "metadata": {},
   "source": [
    "#### Answer - "
   ]
  },
  {
   "cell_type": "markdown",
   "id": "4694881b-fcef-4cef-97b6-83160d6f35ca",
   "metadata": {},
   "source": [
    "**Commonly Used Supervised Learning Algorithms:**  \n",
    "1. Linear Regression    \n",
    "2. Logistic Regression   \n",
    "3. Support Vector Machines (SVM)    \n",
    "4. Decision Trees  \n",
    "5. Random Forests   \n",
    "\n",
    "**Commonly Used Unsupervised Learning Algorithms:**   \n",
    "1. k-Means Clustering     \n",
    "2. Hierarchical Clustering   \n",
    "3. Principal Component Analysis (PCA)   \n",
    "4. Autoencoders   \n",
    "5. Gaussian Mixture Models (GMM)  "
   ]
  },
  {
   "cell_type": "code",
   "execution_count": null,
   "id": "0317176a-1f64-49e4-803f-5f129dc65081",
   "metadata": {},
   "outputs": [],
   "source": []
  }
 ],
 "metadata": {
  "kernelspec": {
   "display_name": "Python 3 (ipykernel)",
   "language": "python",
   "name": "python3"
  },
  "language_info": {
   "codemirror_mode": {
    "name": "ipython",
    "version": 3
   },
   "file_extension": ".py",
   "mimetype": "text/x-python",
   "name": "python",
   "nbconvert_exporter": "python",
   "pygments_lexer": "ipython3",
   "version": "3.10.8"
  }
 },
 "nbformat": 4,
 "nbformat_minor": 5
}
