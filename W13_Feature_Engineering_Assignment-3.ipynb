{
 "cells": [
  {
   "cell_type": "markdown",
   "id": "8a0f4283-66a2-4251-b93d-aea537d8cfd8",
   "metadata": {},
   "source": [
    "Q1. What is data encoding? How is it useful in data science?"
   ]
  },
  {
   "cell_type": "markdown",
   "id": "efb8d32a-ee8d-4785-b185-e5800130eb88",
   "metadata": {},
   "source": [
    "#### Answer -"
   ]
  },
  {
   "cell_type": "markdown",
   "id": "33e93d92-0072-47e6-ac72-def7b5ead23f",
   "metadata": {},
   "source": [
    "Data encoding is the process of converting categorical or textual data into a numerical format that can be used by machine learning algorithms. Since most machine learning models require numerical inputs, data encoding is essential for preparing data for analysis and model training."
   ]
  },
  {
   "cell_type": "markdown",
   "id": "163068ac-87c3-4aa0-ab18-44a7ab4c31dd",
   "metadata": {},
   "source": [
    "Q2. What is nominal encoding? Provide an example of how you would use it in a real-world scenario."
   ]
  },
  {
   "cell_type": "markdown",
   "id": "f4da6d59-890b-4184-a9ba-c2e757d85d42",
   "metadata": {},
   "source": [
    "#### Answer -"
   ]
  },
  {
   "cell_type": "markdown",
   "id": "cec27cde-df09-412d-8a32-eaf7f604adcd",
   "metadata": {},
   "source": [
    "Converts categorical variables into a series of binary variables."
   ]
  },
  {
   "cell_type": "code",
   "execution_count": 8,
   "id": "4922f336-a2b8-4c58-a534-01747cb1d581",
   "metadata": {},
   "outputs": [],
   "source": [
    "import pandas as pd\n",
    "df = pd.DataFrame({\"color\": [\"Red\",\"Green\",\"Yellow\"]})"
   ]
  },
  {
   "cell_type": "code",
   "execution_count": 9,
   "id": "04f6af1b-c0d2-4896-8ab0-7f97ad08dc76",
   "metadata": {},
   "outputs": [
    {
     "data": {
      "text/html": [
       "<div>\n",
       "<style scoped>\n",
       "    .dataframe tbody tr th:only-of-type {\n",
       "        vertical-align: middle;\n",
       "    }\n",
       "\n",
       "    .dataframe tbody tr th {\n",
       "        vertical-align: top;\n",
       "    }\n",
       "\n",
       "    .dataframe thead th {\n",
       "        text-align: right;\n",
       "    }\n",
       "</style>\n",
       "<table border=\"1\" class=\"dataframe\">\n",
       "  <thead>\n",
       "    <tr style=\"text-align: right;\">\n",
       "      <th></th>\n",
       "      <th>color</th>\n",
       "    </tr>\n",
       "  </thead>\n",
       "  <tbody>\n",
       "    <tr>\n",
       "      <th>0</th>\n",
       "      <td>Red</td>\n",
       "    </tr>\n",
       "    <tr>\n",
       "      <th>1</th>\n",
       "      <td>Green</td>\n",
       "    </tr>\n",
       "    <tr>\n",
       "      <th>2</th>\n",
       "      <td>Yellow</td>\n",
       "    </tr>\n",
       "  </tbody>\n",
       "</table>\n",
       "</div>"
      ],
      "text/plain": [
       "    color\n",
       "0     Red\n",
       "1   Green\n",
       "2  Yellow"
      ]
     },
     "execution_count": 9,
     "metadata": {},
     "output_type": "execute_result"
    }
   ],
   "source": [
    "df"
   ]
  },
  {
   "cell_type": "code",
   "execution_count": 2,
   "id": "6a11ea47-5feb-438c-b5f9-c3b9f78e4f83",
   "metadata": {},
   "outputs": [],
   "source": [
    "from sklearn.preprocessing import OneHotEncoder"
   ]
  },
  {
   "cell_type": "code",
   "execution_count": 3,
   "id": "b19994a2-4447-46a0-b7b7-3a90dfe32a3c",
   "metadata": {},
   "outputs": [],
   "source": [
    "encoder = OneHotEncoder()"
   ]
  },
  {
   "cell_type": "code",
   "execution_count": 10,
   "id": "d0deef22-1fc0-4d6d-a0ff-62e700290e93",
   "metadata": {},
   "outputs": [
    {
     "data": {
      "text/plain": [
       "array([[0., 1., 0.],\n",
       "       [1., 0., 0.],\n",
       "       [0., 0., 1.]])"
      ]
     },
     "execution_count": 10,
     "metadata": {},
     "output_type": "execute_result"
    }
   ],
   "source": [
    "encoder.fit_transform(df[[\"color\"]]).toarray()"
   ]
  },
  {
   "cell_type": "markdown",
   "id": "b57f01ad-8f94-42e7-89dc-80a619495249",
   "metadata": {},
   "source": [
    "Q3. In what situations is nominal encoding preferred over one-hot encoding? Provide a practical example."
   ]
  },
  {
   "cell_type": "markdown",
   "id": "141ab067-76d2-419f-9bb9-39472199934d",
   "metadata": {},
   "source": []
  },
  {
   "cell_type": "markdown",
   "id": "e7dd5fe5-a20f-4089-bf25-c1a428cb103f",
   "metadata": {},
   "source": [
    "Q4. Suppose you have a dataset containing categorical data with 5 unique values. Which encoding\n",
    "technique would you use to transform this data into a format suitable for machine learning algorithms?\n",
    "Explain why you made this choice."
   ]
  },
  {
   "cell_type": "markdown",
   "id": "7a2899c3-47ad-418a-af02-22ed3bf2ec5e",
   "metadata": {},
   "source": [
    "#### Answer -"
   ]
  },
  {
   "cell_type": "markdown",
   "id": "a6cf1d22-1419-4b0d-b2a7-caa641456470",
   "metadata": {},
   "source": [
    "I would use one hot encoding because it converts categorical data into a series of binary variables."
   ]
  },
  {
   "cell_type": "markdown",
   "id": "8371392b-e734-4178-ac8a-c1eeebd9049b",
   "metadata": {},
   "source": [
    "Q5. In a machine learning project, you have a dataset with 1000 rows and 5 columns. Two of the columns\n",
    "are categorical, and the remaining three columns are numerical. If you were to use nominal encoding to\n",
    "transform the categorical data, how many new columns would be created? Show your calculations."
   ]
  },
  {
   "cell_type": "markdown",
   "id": "0e442c88-8e90-48f7-8369-28a5df3547d9",
   "metadata": {},
   "source": [
    "#### Answer -"
   ]
  },
  {
   "cell_type": "markdown",
   "id": "d1eb567b-d59a-46c5-b705-de17a03c2bcd",
   "metadata": {},
   "source": [
    "We cannot determine the exact number of new columns without knowing the specific number of unique categories in each categorical feature."
   ]
  },
  {
   "cell_type": "markdown",
   "id": "1549c6bc-bfb4-4282-9f69-1c7f64bab63b",
   "metadata": {},
   "source": [
    "Q6. You are working with a dataset containing information about different types of animals, including their\n",
    "species, habitat, and diet. Which encoding technique would you use to transform the categorical data into\n",
    "a format suitable for machine learning algorithms? Justify your answer."
   ]
  },
  {
   "cell_type": "markdown",
   "id": "bbf4076d-f396-4805-af37-66f546a1166c",
   "metadata": {},
   "source": [
    "#### Answer -"
   ]
  },
  {
   "cell_type": "markdown",
   "id": "55eec763-7b2d-4f1c-b66e-737f41b285d2",
   "metadata": {},
   "source": [
    "I would use one hot encoding because it converts categorical data into a series of binary variables."
   ]
  },
  {
   "cell_type": "markdown",
   "id": "9626e47d-11a3-4c46-b121-04b4394ddab0",
   "metadata": {},
   "source": [
    "Q7.You are working on a project that involves predicting customer churn for a telecommunications\n",
    "company. You have a dataset with 5 features, including the customer's gender, age, contract type,\n",
    "monthly charges, and tenure. Which encoding technique(s) would you use to transform the categorical\n",
    "data into numerical data? Provide a step-by-step explanation of how you would implement the encoding."
   ]
  },
  {
   "cell_type": "markdown",
   "id": "9525546c-aee1-475f-9645-1619709e4e04",
   "metadata": {},
   "source": [
    "#### Answer -"
   ]
  },
  {
   "cell_type": "markdown",
   "id": "1ecba6de-cd09-4e09-92c1-9cd7934ff6b7",
   "metadata": {},
   "source": [
    "I would use one hot encoding because it converts categorical data into a series of binary variables."
   ]
  },
  {
   "cell_type": "code",
   "execution_count": null,
   "id": "52e158bb-16da-4a3c-9a12-00108d3da6ba",
   "metadata": {},
   "outputs": [],
   "source": []
  }
 ],
 "metadata": {
  "kernelspec": {
   "display_name": "Python 3 (ipykernel)",
   "language": "python",
   "name": "python3"
  },
  "language_info": {
   "codemirror_mode": {
    "name": "ipython",
    "version": 3
   },
   "file_extension": ".py",
   "mimetype": "text/x-python",
   "name": "python",
   "nbconvert_exporter": "python",
   "pygments_lexer": "ipython3",
   "version": "3.10.8"
  }
 },
 "nbformat": 4,
 "nbformat_minor": 5
}
