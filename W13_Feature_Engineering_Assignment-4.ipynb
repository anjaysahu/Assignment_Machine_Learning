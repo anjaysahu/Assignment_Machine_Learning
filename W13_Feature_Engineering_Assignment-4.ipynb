{
 "cells": [
  {
   "cell_type": "markdown",
   "id": "695f7ca2-d088-47c7-9ee2-8d4ef70a0a67",
   "metadata": {},
   "source": [
    "Q1. What is the difference between Ordinal Encoding and Label Encoding? Provide an example of when you\n",
    "might choose one over the other."
   ]
  },
  {
   "cell_type": "markdown",
   "id": "36feaa20-c124-4196-bdfa-cdffe0994e18",
   "metadata": {},
   "source": [
    "#### Answer -"
   ]
  },
  {
   "cell_type": "markdown",
   "id": "4eb7a840-752c-4de2-817b-a273192a29da",
   "metadata": {},
   "source": [
    "**Ordinal Encoding -** Ordinal Encoding assigns a unique integer to each category based on an inherent order. This method is useful when the categories have a meaningful order or ranking.      \n",
    "\n",
    "**Label Encoding -** Label Encoding assigns a unique integer to each category without implying any order. It is suitable for nominal categories, where no order or ranking is present."
   ]
  },
  {
   "cell_type": "code",
   "execution_count": 1,
   "id": "65485208-febd-4954-b747-c15a2258d3e6",
   "metadata": {},
   "outputs": [],
   "source": [
    "import pandas as pd\n",
    "df1 = pd.DataFrame({\"color\":[\"Red\",\"Blue\",\"Green\"]})\n",
    "df2 = pd.DataFrame({\"class\":[\"10th\",\"8th\",\"12th\"]})"
   ]
  },
  {
   "cell_type": "code",
   "execution_count": 2,
   "id": "29ff5f25-cd2a-47c8-93df-d0d2e0180d6a",
   "metadata": {},
   "outputs": [
    {
     "data": {
      "text/html": [
       "<div>\n",
       "<style scoped>\n",
       "    .dataframe tbody tr th:only-of-type {\n",
       "        vertical-align: middle;\n",
       "    }\n",
       "\n",
       "    .dataframe tbody tr th {\n",
       "        vertical-align: top;\n",
       "    }\n",
       "\n",
       "    .dataframe thead th {\n",
       "        text-align: right;\n",
       "    }\n",
       "</style>\n",
       "<table border=\"1\" class=\"dataframe\">\n",
       "  <thead>\n",
       "    <tr style=\"text-align: right;\">\n",
       "      <th></th>\n",
       "      <th>color</th>\n",
       "    </tr>\n",
       "  </thead>\n",
       "  <tbody>\n",
       "    <tr>\n",
       "      <th>0</th>\n",
       "      <td>Red</td>\n",
       "    </tr>\n",
       "    <tr>\n",
       "      <th>1</th>\n",
       "      <td>Blue</td>\n",
       "    </tr>\n",
       "    <tr>\n",
       "      <th>2</th>\n",
       "      <td>Green</td>\n",
       "    </tr>\n",
       "  </tbody>\n",
       "</table>\n",
       "</div>"
      ],
      "text/plain": [
       "   color\n",
       "0    Red\n",
       "1   Blue\n",
       "2  Green"
      ]
     },
     "execution_count": 2,
     "metadata": {},
     "output_type": "execute_result"
    }
   ],
   "source": [
    "df1"
   ]
  },
  {
   "cell_type": "code",
   "execution_count": 3,
   "id": "bc15ef1f-49d6-4a56-8a51-d767e06be794",
   "metadata": {},
   "outputs": [],
   "source": [
    "from sklearn.preprocessing import LabelEncoder"
   ]
  },
  {
   "cell_type": "code",
   "execution_count": 4,
   "id": "647c106b-a9ce-460f-aaac-ee453d498a93",
   "metadata": {},
   "outputs": [],
   "source": [
    "encoder = LabelEncoder()"
   ]
  },
  {
   "cell_type": "code",
   "execution_count": 5,
   "id": "2f038c3b-aa49-4035-82c8-25bbc6250763",
   "metadata": {},
   "outputs": [
    {
     "data": {
      "text/plain": [
       "array([2, 0, 1])"
      ]
     },
     "execution_count": 5,
     "metadata": {},
     "output_type": "execute_result"
    }
   ],
   "source": [
    "## Label Encoding Example\n",
    "encoder.fit_transform(df1[\"color\"])   "
   ]
  },
  {
   "cell_type": "code",
   "execution_count": 6,
   "id": "3e73b2b0-a424-4535-a6c2-b29de3c1c9fa",
   "metadata": {},
   "outputs": [
    {
     "data": {
      "text/html": [
       "<div>\n",
       "<style scoped>\n",
       "    .dataframe tbody tr th:only-of-type {\n",
       "        vertical-align: middle;\n",
       "    }\n",
       "\n",
       "    .dataframe tbody tr th {\n",
       "        vertical-align: top;\n",
       "    }\n",
       "\n",
       "    .dataframe thead th {\n",
       "        text-align: right;\n",
       "    }\n",
       "</style>\n",
       "<table border=\"1\" class=\"dataframe\">\n",
       "  <thead>\n",
       "    <tr style=\"text-align: right;\">\n",
       "      <th></th>\n",
       "      <th>class</th>\n",
       "    </tr>\n",
       "  </thead>\n",
       "  <tbody>\n",
       "    <tr>\n",
       "      <th>0</th>\n",
       "      <td>10th</td>\n",
       "    </tr>\n",
       "    <tr>\n",
       "      <th>1</th>\n",
       "      <td>8th</td>\n",
       "    </tr>\n",
       "    <tr>\n",
       "      <th>2</th>\n",
       "      <td>12th</td>\n",
       "    </tr>\n",
       "  </tbody>\n",
       "</table>\n",
       "</div>"
      ],
      "text/plain": [
       "  class\n",
       "0  10th\n",
       "1   8th\n",
       "2  12th"
      ]
     },
     "execution_count": 6,
     "metadata": {},
     "output_type": "execute_result"
    }
   ],
   "source": [
    "df2"
   ]
  },
  {
   "cell_type": "code",
   "execution_count": 7,
   "id": "c0e4b54b-dc3c-474d-b9a7-4ed0e101ebdb",
   "metadata": {},
   "outputs": [],
   "source": [
    "from sklearn.preprocessing import OrdinalEncoder"
   ]
  },
  {
   "cell_type": "code",
   "execution_count": 8,
   "id": "41d33b66-0cd2-4b66-a310-551148e22f3c",
   "metadata": {},
   "outputs": [],
   "source": [
    "encoder  = OrdinalEncoder(categories=[[\"8th\",\"10th\",\"12th\"]])"
   ]
  },
  {
   "cell_type": "code",
   "execution_count": 9,
   "id": "95038d18-b5d5-4b39-b65e-4205542faf0a",
   "metadata": {},
   "outputs": [
    {
     "data": {
      "text/plain": [
       "array([[1.],\n",
       "       [0.],\n",
       "       [2.]])"
      ]
     },
     "execution_count": 9,
     "metadata": {},
     "output_type": "execute_result"
    }
   ],
   "source": [
    "encoder.fit_transform(df2[[\"class\"]])"
   ]
  },
  {
   "cell_type": "markdown",
   "id": "22a0e381-3045-4353-892a-2d24fd3175e1",
   "metadata": {},
   "source": [
    "Q2. Explain how Target Guided Ordinal Encoding works and provide an example of when you might use it in\n",
    "a machine learning project."
   ]
  },
  {
   "cell_type": "markdown",
   "id": "c81f2f6e-38a8-4010-a8d4-eb6da9946bb0",
   "metadata": {},
   "source": [
    "#### Answer -"
   ]
  },
  {
   "cell_type": "markdown",
   "id": "7cd2ba1a-9641-4b11-8065-298468928d10",
   "metadata": {},
   "source": [
    "It is a technique used to encode categorical variables based on their relationship with the target variable. This encoding technique is useful when we have a categorical variable with a large number of unique categories, and we want to use this variable as a feature in our machine learning model."
   ]
  },
  {
   "cell_type": "code",
   "execution_count": 10,
   "id": "a9878b11-756a-412f-afd2-b156d74a98f4",
   "metadata": {},
   "outputs": [],
   "source": [
    "df = pd.DataFrame({\"city\":[\"Mumbai\",\"Banglore\",\"Baikunthpur\",\"Banglore\",\"Mumbai\"],\n",
    "             \"price\":[500,800,300,900,600]})"
   ]
  },
  {
   "cell_type": "code",
   "execution_count": 11,
   "id": "53fd8051-453f-4818-a75b-6a4a9e7bbefa",
   "metadata": {},
   "outputs": [
    {
     "data": {
      "text/html": [
       "<div>\n",
       "<style scoped>\n",
       "    .dataframe tbody tr th:only-of-type {\n",
       "        vertical-align: middle;\n",
       "    }\n",
       "\n",
       "    .dataframe tbody tr th {\n",
       "        vertical-align: top;\n",
       "    }\n",
       "\n",
       "    .dataframe thead th {\n",
       "        text-align: right;\n",
       "    }\n",
       "</style>\n",
       "<table border=\"1\" class=\"dataframe\">\n",
       "  <thead>\n",
       "    <tr style=\"text-align: right;\">\n",
       "      <th></th>\n",
       "      <th>city</th>\n",
       "      <th>price</th>\n",
       "    </tr>\n",
       "  </thead>\n",
       "  <tbody>\n",
       "    <tr>\n",
       "      <th>0</th>\n",
       "      <td>Mumbai</td>\n",
       "      <td>500</td>\n",
       "    </tr>\n",
       "    <tr>\n",
       "      <th>1</th>\n",
       "      <td>Banglore</td>\n",
       "      <td>800</td>\n",
       "    </tr>\n",
       "    <tr>\n",
       "      <th>2</th>\n",
       "      <td>Baikunthpur</td>\n",
       "      <td>300</td>\n",
       "    </tr>\n",
       "    <tr>\n",
       "      <th>3</th>\n",
       "      <td>Banglore</td>\n",
       "      <td>900</td>\n",
       "    </tr>\n",
       "    <tr>\n",
       "      <th>4</th>\n",
       "      <td>Mumbai</td>\n",
       "      <td>600</td>\n",
       "    </tr>\n",
       "  </tbody>\n",
       "</table>\n",
       "</div>"
      ],
      "text/plain": [
       "          city  price\n",
       "0       Mumbai    500\n",
       "1     Banglore    800\n",
       "2  Baikunthpur    300\n",
       "3     Banglore    900\n",
       "4       Mumbai    600"
      ]
     },
     "execution_count": 11,
     "metadata": {},
     "output_type": "execute_result"
    }
   ],
   "source": [
    "df"
   ]
  },
  {
   "cell_type": "code",
   "execution_count": 12,
   "id": "082d5014-d095-4913-a447-2372d647f980",
   "metadata": {},
   "outputs": [],
   "source": [
    "av_price = df.groupby(\"city\")[\"price\"].mean()"
   ]
  },
  {
   "cell_type": "code",
   "execution_count": 13,
   "id": "228c799a-8b05-466e-9452-2db9a4c20509",
   "metadata": {},
   "outputs": [
    {
     "data": {
      "text/plain": [
       "city\n",
       "Baikunthpur    300.0\n",
       "Banglore       850.0\n",
       "Mumbai         550.0\n",
       "Name: price, dtype: float64"
      ]
     },
     "execution_count": 13,
     "metadata": {},
     "output_type": "execute_result"
    }
   ],
   "source": [
    "av_price"
   ]
  },
  {
   "cell_type": "code",
   "execution_count": 14,
   "id": "2ead4d70-4004-4480-84b5-b7fb1b288014",
   "metadata": {},
   "outputs": [],
   "source": [
    "df[\"av_price\"] = df[\"city\"].map(av_price)"
   ]
  },
  {
   "cell_type": "code",
   "execution_count": 15,
   "id": "2f3b8e29-b079-4579-bb29-f26fde522aa9",
   "metadata": {},
   "outputs": [
    {
     "data": {
      "text/html": [
       "<div>\n",
       "<style scoped>\n",
       "    .dataframe tbody tr th:only-of-type {\n",
       "        vertical-align: middle;\n",
       "    }\n",
       "\n",
       "    .dataframe tbody tr th {\n",
       "        vertical-align: top;\n",
       "    }\n",
       "\n",
       "    .dataframe thead th {\n",
       "        text-align: right;\n",
       "    }\n",
       "</style>\n",
       "<table border=\"1\" class=\"dataframe\">\n",
       "  <thead>\n",
       "    <tr style=\"text-align: right;\">\n",
       "      <th></th>\n",
       "      <th>city</th>\n",
       "      <th>price</th>\n",
       "      <th>av_price</th>\n",
       "    </tr>\n",
       "  </thead>\n",
       "  <tbody>\n",
       "    <tr>\n",
       "      <th>0</th>\n",
       "      <td>Mumbai</td>\n",
       "      <td>500</td>\n",
       "      <td>550.0</td>\n",
       "    </tr>\n",
       "    <tr>\n",
       "      <th>1</th>\n",
       "      <td>Banglore</td>\n",
       "      <td>800</td>\n",
       "      <td>850.0</td>\n",
       "    </tr>\n",
       "    <tr>\n",
       "      <th>2</th>\n",
       "      <td>Baikunthpur</td>\n",
       "      <td>300</td>\n",
       "      <td>300.0</td>\n",
       "    </tr>\n",
       "    <tr>\n",
       "      <th>3</th>\n",
       "      <td>Banglore</td>\n",
       "      <td>900</td>\n",
       "      <td>850.0</td>\n",
       "    </tr>\n",
       "    <tr>\n",
       "      <th>4</th>\n",
       "      <td>Mumbai</td>\n",
       "      <td>600</td>\n",
       "      <td>550.0</td>\n",
       "    </tr>\n",
       "  </tbody>\n",
       "</table>\n",
       "</div>"
      ],
      "text/plain": [
       "          city  price  av_price\n",
       "0       Mumbai    500     550.0\n",
       "1     Banglore    800     850.0\n",
       "2  Baikunthpur    300     300.0\n",
       "3     Banglore    900     850.0\n",
       "4       Mumbai    600     550.0"
      ]
     },
     "execution_count": 15,
     "metadata": {},
     "output_type": "execute_result"
    }
   ],
   "source": [
    "df"
   ]
  },
  {
   "cell_type": "markdown",
   "id": "bd4fbb82-5a4b-420e-a93f-efb7c4572c0c",
   "metadata": {},
   "source": [
    "Q3. Define covariance and explain why it is important in statistical analysis. How is covariance calculated?"
   ]
  },
  {
   "cell_type": "markdown",
   "id": "98ec40e3-ffea-48e4-acb3-685c476e5399",
   "metadata": {},
   "source": [
    "#### Answer -"
   ]
  },
  {
   "cell_type": "markdown",
   "id": "6ee3df74-f242-4469-b8f7-6b0ff0c6130a",
   "metadata": {},
   "source": [
    "Covariance is a statistical measure that indicates the extent to which two variables change together. If the greater values of one variable correspond with the greater values of the other variable, the covariance is positive. Conversely, if greater values of one variable correspond with the lesser values of the other variable, the covariance is negative. A covariance close to zero suggests that the variables are not linearly related.\n",
    "\n",
    "### Importance of Covariance in Statistical Analysis\n",
    "**Understanding Relationships:** Covariance helps in identifying the direction of the linear relationship between variables. Knowing whether the relationship is positive or negative can be crucial in fields like finance, economics, and social sciences.\n",
    "\n",
    "**Feature Selection:** In machine learning and data analysis, covariance can help in selecting relevant features. Variables with high covariance might provide redundant information.\n",
    "\n",
    "**Portfolio Theory:** In finance, covariance is used to diversify risk in portfolio management. Assets with low or negative covariance can reduce the overall risk of the portfolio.\n",
    "\n",
    "**Basis for Further Analysis:** Covariance is a building block for other statistical concepts like the correlation coefficient, which standardizes covariance by dividing it by the product of the standard deviations of the variables."
   ]
  },
  {
   "cell_type": "markdown",
   "id": "b59a5669-7566-4966-9f28-0b1835ee7bf9",
   "metadata": {},
   "source": [
    "Q4. For a dataset with the following categorical variables: Color (red, green, blue), Size (small, medium,\n",
    "large), and Material (wood, metal, plastic), perform label encoding using Python's scikit-learn library.\n",
    "Show your code and explain the output."
   ]
  },
  {
   "cell_type": "markdown",
   "id": "705f5c32-ae63-413f-8caa-c67db2766e49",
   "metadata": {},
   "source": [
    "#### Answer -"
   ]
  },
  {
   "cell_type": "code",
   "execution_count": 16,
   "id": "7e2f97a1-36f4-41fe-b364-a9665628c8bd",
   "metadata": {},
   "outputs": [],
   "source": [
    "df = pd.DataFrame({\"Color\":[\"red\",\"green\",\"blue\"],\n",
    "              \"Size\":[\"small\", \"medium\", \"large\"],\n",
    "              \"Material\": [\"wood\", \"metal\", \"plastic\"]})"
   ]
  },
  {
   "cell_type": "code",
   "execution_count": 17,
   "id": "0e71c90a-b625-44c9-9728-d1c6b45a9950",
   "metadata": {},
   "outputs": [
    {
     "data": {
      "text/html": [
       "<div>\n",
       "<style scoped>\n",
       "    .dataframe tbody tr th:only-of-type {\n",
       "        vertical-align: middle;\n",
       "    }\n",
       "\n",
       "    .dataframe tbody tr th {\n",
       "        vertical-align: top;\n",
       "    }\n",
       "\n",
       "    .dataframe thead th {\n",
       "        text-align: right;\n",
       "    }\n",
       "</style>\n",
       "<table border=\"1\" class=\"dataframe\">\n",
       "  <thead>\n",
       "    <tr style=\"text-align: right;\">\n",
       "      <th></th>\n",
       "      <th>Color</th>\n",
       "      <th>Size</th>\n",
       "      <th>Material</th>\n",
       "    </tr>\n",
       "  </thead>\n",
       "  <tbody>\n",
       "    <tr>\n",
       "      <th>0</th>\n",
       "      <td>red</td>\n",
       "      <td>small</td>\n",
       "      <td>wood</td>\n",
       "    </tr>\n",
       "    <tr>\n",
       "      <th>1</th>\n",
       "      <td>green</td>\n",
       "      <td>medium</td>\n",
       "      <td>metal</td>\n",
       "    </tr>\n",
       "    <tr>\n",
       "      <th>2</th>\n",
       "      <td>blue</td>\n",
       "      <td>large</td>\n",
       "      <td>plastic</td>\n",
       "    </tr>\n",
       "  </tbody>\n",
       "</table>\n",
       "</div>"
      ],
      "text/plain": [
       "   Color    Size Material\n",
       "0    red   small     wood\n",
       "1  green  medium    metal\n",
       "2   blue   large  plastic"
      ]
     },
     "execution_count": 17,
     "metadata": {},
     "output_type": "execute_result"
    }
   ],
   "source": [
    "df"
   ]
  },
  {
   "cell_type": "code",
   "execution_count": 18,
   "id": "22c38ff8-9212-4ac6-89b1-61c88074f448",
   "metadata": {},
   "outputs": [],
   "source": [
    "from sklearn.preprocessing import LabelEncoder"
   ]
  },
  {
   "cell_type": "code",
   "execution_count": 19,
   "id": "8aaa5d44-157e-48b5-b975-8265098f4286",
   "metadata": {},
   "outputs": [],
   "source": [
    "encoder = LabelEncoder()"
   ]
  },
  {
   "cell_type": "code",
   "execution_count": 20,
   "id": "29f6a7b0-2179-4ad5-b7a9-0e5babd8d88f",
   "metadata": {},
   "outputs": [
    {
     "data": {
      "text/plain": [
       "array([2, 1, 0])"
      ]
     },
     "execution_count": 20,
     "metadata": {},
     "output_type": "execute_result"
    }
   ],
   "source": [
    "encoder.fit_transform(df[\"Color\"])"
   ]
  },
  {
   "cell_type": "code",
   "execution_count": 21,
   "id": "5d529991-c753-47c8-aba9-50a6c356fa73",
   "metadata": {},
   "outputs": [
    {
     "data": {
      "text/plain": [
       "array([2, 1, 0])"
      ]
     },
     "execution_count": 21,
     "metadata": {},
     "output_type": "execute_result"
    }
   ],
   "source": [
    "encoder.fit_transform(df[\"Size\"])"
   ]
  },
  {
   "cell_type": "code",
   "execution_count": 22,
   "id": "ba4e5e09-025b-4d62-a8d5-4084dc9db08e",
   "metadata": {},
   "outputs": [
    {
     "data": {
      "text/plain": [
       "array([2, 0, 1])"
      ]
     },
     "execution_count": 22,
     "metadata": {},
     "output_type": "execute_result"
    }
   ],
   "source": [
    "encoder.fit_transform(df[\"Material\"])"
   ]
  },
  {
   "cell_type": "markdown",
   "id": "2ea80884-a7a5-4f33-9cd9-bc0a96d7a8ef",
   "metadata": {},
   "source": [
    "Q5. Calculate the covariance matrix for the following variables in a dataset: Age, Income, and Education\n",
    "level. Interpret the results."
   ]
  },
  {
   "cell_type": "markdown",
   "id": "2a415388-d574-4c29-acb7-40a438056357",
   "metadata": {},
   "source": [
    "#### Answer -"
   ]
  },
  {
   "cell_type": "markdown",
   "id": "4080e832-62db-422a-89e9-c0338a2fa4a3",
   "metadata": {},
   "source": [
    "we assume \"Education Level\" is encoded as follows:\n",
    "\n",
    "High School: 1      \n",
    "Bachelor's: 2            \n",
    "Master's: 3            \n",
    "PhD: 4 "
   ]
  },
  {
   "cell_type": "code",
   "execution_count": 23,
   "id": "c2bb0184-590a-49e1-8c78-461f20e44b2b",
   "metadata": {},
   "outputs": [
    {
     "data": {
      "text/html": [
       "<div>\n",
       "<style scoped>\n",
       "    .dataframe tbody tr th:only-of-type {\n",
       "        vertical-align: middle;\n",
       "    }\n",
       "\n",
       "    .dataframe tbody tr th {\n",
       "        vertical-align: top;\n",
       "    }\n",
       "\n",
       "    .dataframe thead th {\n",
       "        text-align: right;\n",
       "    }\n",
       "</style>\n",
       "<table border=\"1\" class=\"dataframe\">\n",
       "  <thead>\n",
       "    <tr style=\"text-align: right;\">\n",
       "      <th></th>\n",
       "      <th>Age</th>\n",
       "      <th>Income</th>\n",
       "      <th>Education Level</th>\n",
       "    </tr>\n",
       "  </thead>\n",
       "  <tbody>\n",
       "    <tr>\n",
       "      <th>0</th>\n",
       "      <td>25</td>\n",
       "      <td>50000</td>\n",
       "      <td>1</td>\n",
       "    </tr>\n",
       "    <tr>\n",
       "      <th>1</th>\n",
       "      <td>30</td>\n",
       "      <td>60000</td>\n",
       "      <td>2</td>\n",
       "    </tr>\n",
       "    <tr>\n",
       "      <th>2</th>\n",
       "      <td>35</td>\n",
       "      <td>80000</td>\n",
       "      <td>3</td>\n",
       "    </tr>\n",
       "    <tr>\n",
       "      <th>3</th>\n",
       "      <td>40</td>\n",
       "      <td>90000</td>\n",
       "      <td>4</td>\n",
       "    </tr>\n",
       "  </tbody>\n",
       "</table>\n",
       "</div>"
      ],
      "text/plain": [
       "   Age  Income  Education Level\n",
       "0   25   50000                1\n",
       "1   30   60000                2\n",
       "2   35   80000                3\n",
       "3   40   90000                4"
      ]
     },
     "execution_count": 23,
     "metadata": {},
     "output_type": "execute_result"
    }
   ],
   "source": [
    "import pandas as pd\n",
    "\n",
    "# Sample data\n",
    "data = {\n",
    "    'Age': [25, 30, 35, 40],\n",
    "    'Income': [50000, 60000, 80000, 90000],\n",
    "    'Education Level': [1, 2, 3, 4]\n",
    "}\n",
    "\n",
    "df = pd.DataFrame(data)\n",
    "df"
   ]
  },
  {
   "cell_type": "code",
   "execution_count": 24,
   "id": "9dc71d10-47c8-4e12-a109-f2774cdecffe",
   "metadata": {},
   "outputs": [
    {
     "data": {
      "text/html": [
       "<div>\n",
       "<style scoped>\n",
       "    .dataframe tbody tr th:only-of-type {\n",
       "        vertical-align: middle;\n",
       "    }\n",
       "\n",
       "    .dataframe tbody tr th {\n",
       "        vertical-align: top;\n",
       "    }\n",
       "\n",
       "    .dataframe thead th {\n",
       "        text-align: right;\n",
       "    }\n",
       "</style>\n",
       "<table border=\"1\" class=\"dataframe\">\n",
       "  <thead>\n",
       "    <tr style=\"text-align: right;\">\n",
       "      <th></th>\n",
       "      <th>Age</th>\n",
       "      <th>Income</th>\n",
       "      <th>Education Level</th>\n",
       "    </tr>\n",
       "  </thead>\n",
       "  <tbody>\n",
       "    <tr>\n",
       "      <th>Age</th>\n",
       "      <td>41.666667</td>\n",
       "      <td>1.166667e+05</td>\n",
       "      <td>8.333333</td>\n",
       "    </tr>\n",
       "    <tr>\n",
       "      <th>Income</th>\n",
       "      <td>116666.666667</td>\n",
       "      <td>3.333333e+08</td>\n",
       "      <td>23333.333333</td>\n",
       "    </tr>\n",
       "    <tr>\n",
       "      <th>Education Level</th>\n",
       "      <td>8.333333</td>\n",
       "      <td>2.333333e+04</td>\n",
       "      <td>1.666667</td>\n",
       "    </tr>\n",
       "  </tbody>\n",
       "</table>\n",
       "</div>"
      ],
      "text/plain": [
       "                           Age        Income  Education Level\n",
       "Age                  41.666667  1.166667e+05         8.333333\n",
       "Income           116666.666667  3.333333e+08     23333.333333\n",
       "Education Level       8.333333  2.333333e+04         1.666667"
      ]
     },
     "execution_count": 24,
     "metadata": {},
     "output_type": "execute_result"
    }
   ],
   "source": [
    "df.cov()"
   ]
  },
  {
   "cell_type": "markdown",
   "id": "cab146f9-ae7e-4b40-9c28-ae2c266aeb8e",
   "metadata": {},
   "source": [
    "Q6. You are working on a machine learning project with a dataset containing several categorical\n",
    "variables, including \"Gender\" (Male/Female), \"Education Level\" (High School/Bachelor's/Master's/PhD),\n",
    "and \"Employment Status\" (Unemployed/Part-Time/Full-Time). Which encoding method would you use for\n",
    "each variable, and why?"
   ]
  },
  {
   "cell_type": "markdown",
   "id": "37d3b95d-c211-489a-8186-a56918e8cb42",
   "metadata": {},
   "source": [
    "#### Answer -"
   ]
  },
  {
   "cell_type": "code",
   "execution_count": 25,
   "id": "a06d6706-4f3b-4e9f-ba02-94adf4beaab1",
   "metadata": {},
   "outputs": [],
   "source": [
    "df = pd.DataFrame({\"Gender\" :[\"Male\",\"Female\",\"Male\",\"Female\"],\n",
    "             \"Education Level\" :[\"High School\",\"Bachelor's\",\"Master's\",\"PhD\"],\n",
    "             \"Employment Status\": [\"Unemployed\",\"Part-Time\",\"Full-Time\",\"Full-Time\"]})"
   ]
  },
  {
   "cell_type": "code",
   "execution_count": 26,
   "id": "dd3d3794-8881-4395-8f74-a4a82656f20a",
   "metadata": {},
   "outputs": [
    {
     "data": {
      "text/html": [
       "<div>\n",
       "<style scoped>\n",
       "    .dataframe tbody tr th:only-of-type {\n",
       "        vertical-align: middle;\n",
       "    }\n",
       "\n",
       "    .dataframe tbody tr th {\n",
       "        vertical-align: top;\n",
       "    }\n",
       "\n",
       "    .dataframe thead th {\n",
       "        text-align: right;\n",
       "    }\n",
       "</style>\n",
       "<table border=\"1\" class=\"dataframe\">\n",
       "  <thead>\n",
       "    <tr style=\"text-align: right;\">\n",
       "      <th></th>\n",
       "      <th>Gender</th>\n",
       "      <th>Education Level</th>\n",
       "      <th>Employment Status</th>\n",
       "    </tr>\n",
       "  </thead>\n",
       "  <tbody>\n",
       "    <tr>\n",
       "      <th>0</th>\n",
       "      <td>Male</td>\n",
       "      <td>High School</td>\n",
       "      <td>Unemployed</td>\n",
       "    </tr>\n",
       "    <tr>\n",
       "      <th>1</th>\n",
       "      <td>Female</td>\n",
       "      <td>Bachelor's</td>\n",
       "      <td>Part-Time</td>\n",
       "    </tr>\n",
       "    <tr>\n",
       "      <th>2</th>\n",
       "      <td>Male</td>\n",
       "      <td>Master's</td>\n",
       "      <td>Full-Time</td>\n",
       "    </tr>\n",
       "    <tr>\n",
       "      <th>3</th>\n",
       "      <td>Female</td>\n",
       "      <td>PhD</td>\n",
       "      <td>Full-Time</td>\n",
       "    </tr>\n",
       "  </tbody>\n",
       "</table>\n",
       "</div>"
      ],
      "text/plain": [
       "   Gender Education Level Employment Status\n",
       "0    Male     High School        Unemployed\n",
       "1  Female      Bachelor's         Part-Time\n",
       "2    Male        Master's         Full-Time\n",
       "3  Female             PhD         Full-Time"
      ]
     },
     "execution_count": 26,
     "metadata": {},
     "output_type": "execute_result"
    }
   ],
   "source": [
    "df"
   ]
  },
  {
   "cell_type": "markdown",
   "id": "b6d9e31b-6bf8-45ca-97de-5e72ebbff9fb",
   "metadata": {},
   "source": [
    "**Gender -** Use Label Encoding because the categories are nominal and do not have any inherent order."
   ]
  },
  {
   "cell_type": "code",
   "execution_count": 27,
   "id": "03d3417e-f26d-4422-84ec-dcf1e76e7bea",
   "metadata": {},
   "outputs": [],
   "source": [
    "encoder = LabelEncoder()"
   ]
  },
  {
   "cell_type": "code",
   "execution_count": 28,
   "id": "4f000e06-9e3f-4512-ae75-de3295432c11",
   "metadata": {},
   "outputs": [
    {
     "data": {
      "text/plain": [
       "array([1, 0, 1, 0])"
      ]
     },
     "execution_count": 28,
     "metadata": {},
     "output_type": "execute_result"
    }
   ],
   "source": [
    "encoder.fit_transform(df[\"Gender\"])"
   ]
  },
  {
   "cell_type": "markdown",
   "id": "12dc33af-e249-4cca-96e3-2e3e015ccfbd",
   "metadata": {},
   "source": [
    "**Education Level -** Use Ordinal Encoding because the categories have a clear order based on the level of education."
   ]
  },
  {
   "cell_type": "code",
   "execution_count": 29,
   "id": "f172e420-d5f8-4dd8-9418-904a8b0d137e",
   "metadata": {},
   "outputs": [],
   "source": [
    "encoder = OrdinalEncoder(categories=[[\"High School\",\"Bachelor's\",\"Master's\",\"PhD\"]])"
   ]
  },
  {
   "cell_type": "code",
   "execution_count": 30,
   "id": "e0c76400-a271-4cd5-904d-d2c8e21b336e",
   "metadata": {},
   "outputs": [
    {
     "data": {
      "text/plain": [
       "array([[0.],\n",
       "       [1.],\n",
       "       [2.],\n",
       "       [3.]])"
      ]
     },
     "execution_count": 30,
     "metadata": {},
     "output_type": "execute_result"
    }
   ],
   "source": [
    "encoder.fit_transform(df[[\"Education Level\"]])"
   ]
  },
  {
   "cell_type": "markdown",
   "id": "e392f9f4-a06a-4bbf-a362-27f12e899e5e",
   "metadata": {},
   "source": [
    "**Employment Status -** Use Ordinal Encoding because the categories have a clear order based on the level of employment."
   ]
  },
  {
   "cell_type": "code",
   "execution_count": 31,
   "id": "0b900aac-bca2-439b-9fe7-d4b40ca54cc3",
   "metadata": {},
   "outputs": [],
   "source": [
    "encoder = OrdinalEncoder(categories=[[\"Unemployed\",\"Part-Time\",\"Full-Time\"]])"
   ]
  },
  {
   "cell_type": "code",
   "execution_count": 32,
   "id": "a719f6d8-f092-4c7e-b895-16daa64e7d89",
   "metadata": {},
   "outputs": [
    {
     "data": {
      "text/plain": [
       "array([[0.],\n",
       "       [1.],\n",
       "       [2.],\n",
       "       [2.]])"
      ]
     },
     "execution_count": 32,
     "metadata": {},
     "output_type": "execute_result"
    }
   ],
   "source": [
    "encoder.fit_transform(df[[\"Employment Status\"]])"
   ]
  },
  {
   "cell_type": "markdown",
   "id": "2622129d-a322-4436-af71-e019ed21d869",
   "metadata": {},
   "source": [
    "Q7. You are analyzing a dataset with two continuous variables, \"Temperature\" and \"Humidity\", and two\n",
    "categorical variables, \"Weather Condition\" (Sunny/Cloudy/Rainy) and \"Wind Direction\" (North/South/\n",
    "East/West). Calculate the covariance between each pair of variables and interpret the results."
   ]
  },
  {
   "cell_type": "markdown",
   "id": "01f3fab5-2572-4520-a811-28602499dc8f",
   "metadata": {},
   "source": [
    "#### Answer -"
   ]
  },
  {
   "cell_type": "markdown",
   "id": "76657b84-3fcc-467d-b403-74276bc209f4",
   "metadata": {},
   "source": [
    "#### Encode Categorical Variables"
   ]
  },
  {
   "cell_type": "code",
   "execution_count": 33,
   "id": "9500fecd-98b6-4f41-9884-1eb259e1b702",
   "metadata": {},
   "outputs": [],
   "source": [
    "encoder = LabelEncoder()"
   ]
  },
  {
   "cell_type": "code",
   "execution_count": 34,
   "id": "adfb8920-1188-4a83-a31d-21079b55d83c",
   "metadata": {},
   "outputs": [
    {
     "data": {
      "text/plain": [
       "array([2, 0, 1])"
      ]
     },
     "execution_count": 34,
     "metadata": {},
     "output_type": "execute_result"
    }
   ],
   "source": [
    "encoder.fit_transform([\"Sunny\",\"Cloudy\",\"Rainy\"])"
   ]
  },
  {
   "cell_type": "code",
   "execution_count": 35,
   "id": "d315cddc-6184-468c-bd6f-9e88eb3cc26f",
   "metadata": {},
   "outputs": [
    {
     "data": {
      "text/plain": [
       "array([1, 2, 0, 3])"
      ]
     },
     "execution_count": 35,
     "metadata": {},
     "output_type": "execute_result"
    }
   ],
   "source": [
    "encoder.fit_transform([\"North\",\"South\",\"East\",\"West\"])"
   ]
  },
  {
   "cell_type": "code",
   "execution_count": 36,
   "id": "4bfe6425-0a5b-4d1f-9e6f-af1091bf01a1",
   "metadata": {},
   "outputs": [],
   "source": [
    "import pandas as pd\n",
    "\n",
    "data = {\n",
    "    'Temperature': [30, 25, 20, 22, 28],\n",
    "    'Humidity': [70, 65, 80, 75, 60],\n",
    "    'Weather Condition': [2, 0, 1, 0, 1],\n",
    "    'Wind Direction': [1, 2, 0, 3, 0]\n",
    "}\n",
    "\n",
    "df = pd.DataFrame(data)"
   ]
  },
  {
   "cell_type": "code",
   "execution_count": 37,
   "id": "1a0ee7d1-0730-420e-9dc6-ad457aa4156d",
   "metadata": {},
   "outputs": [
    {
     "data": {
      "text/html": [
       "<div>\n",
       "<style scoped>\n",
       "    .dataframe tbody tr th:only-of-type {\n",
       "        vertical-align: middle;\n",
       "    }\n",
       "\n",
       "    .dataframe tbody tr th {\n",
       "        vertical-align: top;\n",
       "    }\n",
       "\n",
       "    .dataframe thead th {\n",
       "        text-align: right;\n",
       "    }\n",
       "</style>\n",
       "<table border=\"1\" class=\"dataframe\">\n",
       "  <thead>\n",
       "    <tr style=\"text-align: right;\">\n",
       "      <th></th>\n",
       "      <th>Temperature</th>\n",
       "      <th>Humidity</th>\n",
       "      <th>Weather Condition</th>\n",
       "      <th>Wind Direction</th>\n",
       "    </tr>\n",
       "  </thead>\n",
       "  <tbody>\n",
       "    <tr>\n",
       "      <th>0</th>\n",
       "      <td>30</td>\n",
       "      <td>70</td>\n",
       "      <td>2</td>\n",
       "      <td>1</td>\n",
       "    </tr>\n",
       "    <tr>\n",
       "      <th>1</th>\n",
       "      <td>25</td>\n",
       "      <td>65</td>\n",
       "      <td>0</td>\n",
       "      <td>2</td>\n",
       "    </tr>\n",
       "    <tr>\n",
       "      <th>2</th>\n",
       "      <td>20</td>\n",
       "      <td>80</td>\n",
       "      <td>1</td>\n",
       "      <td>0</td>\n",
       "    </tr>\n",
       "    <tr>\n",
       "      <th>3</th>\n",
       "      <td>22</td>\n",
       "      <td>75</td>\n",
       "      <td>0</td>\n",
       "      <td>3</td>\n",
       "    </tr>\n",
       "    <tr>\n",
       "      <th>4</th>\n",
       "      <td>28</td>\n",
       "      <td>60</td>\n",
       "      <td>1</td>\n",
       "      <td>0</td>\n",
       "    </tr>\n",
       "  </tbody>\n",
       "</table>\n",
       "</div>"
      ],
      "text/plain": [
       "   Temperature  Humidity  Weather Condition  Wind Direction\n",
       "0           30        70                  2               1\n",
       "1           25        65                  0               2\n",
       "2           20        80                  1               0\n",
       "3           22        75                  0               3\n",
       "4           28        60                  1               0"
      ]
     },
     "execution_count": 37,
     "metadata": {},
     "output_type": "execute_result"
    }
   ],
   "source": [
    "df"
   ]
  },
  {
   "cell_type": "code",
   "execution_count": 38,
   "id": "0672abb0-de13-489f-ae61-e38b9b8aa236",
   "metadata": {},
   "outputs": [
    {
     "data": {
      "text/html": [
       "<div>\n",
       "<style scoped>\n",
       "    .dataframe tbody tr th:only-of-type {\n",
       "        vertical-align: middle;\n",
       "    }\n",
       "\n",
       "    .dataframe tbody tr th {\n",
       "        vertical-align: top;\n",
       "    }\n",
       "\n",
       "    .dataframe thead th {\n",
       "        text-align: right;\n",
       "    }\n",
       "</style>\n",
       "<table border=\"1\" class=\"dataframe\">\n",
       "  <thead>\n",
       "    <tr style=\"text-align: right;\">\n",
       "      <th></th>\n",
       "      <th>Temperature</th>\n",
       "      <th>Humidity</th>\n",
       "      <th>Weather Condition</th>\n",
       "      <th>Wind Direction</th>\n",
       "    </tr>\n",
       "  </thead>\n",
       "  <tbody>\n",
       "    <tr>\n",
       "      <th>Temperature</th>\n",
       "      <td>17.00</td>\n",
       "      <td>-2.375000e+01</td>\n",
       "      <td>2.000000e+00</td>\n",
       "      <td>-1.00</td>\n",
       "    </tr>\n",
       "    <tr>\n",
       "      <th>Humidity</th>\n",
       "      <td>-23.75</td>\n",
       "      <td>6.250000e+01</td>\n",
       "      <td>5.551115e-17</td>\n",
       "      <td>1.25</td>\n",
       "    </tr>\n",
       "    <tr>\n",
       "      <th>Weather Condition</th>\n",
       "      <td>2.00</td>\n",
       "      <td>5.551115e-17</td>\n",
       "      <td>7.000000e-01</td>\n",
       "      <td>-0.70</td>\n",
       "    </tr>\n",
       "    <tr>\n",
       "      <th>Wind Direction</th>\n",
       "      <td>-1.00</td>\n",
       "      <td>1.250000e+00</td>\n",
       "      <td>-7.000000e-01</td>\n",
       "      <td>1.70</td>\n",
       "    </tr>\n",
       "  </tbody>\n",
       "</table>\n",
       "</div>"
      ],
      "text/plain": [
       "                   Temperature      Humidity  Weather Condition  \\\n",
       "Temperature              17.00 -2.375000e+01       2.000000e+00   \n",
       "Humidity                -23.75  6.250000e+01       5.551115e-17   \n",
       "Weather Condition         2.00  5.551115e-17       7.000000e-01   \n",
       "Wind Direction           -1.00  1.250000e+00      -7.000000e-01   \n",
       "\n",
       "                   Wind Direction  \n",
       "Temperature                 -1.00  \n",
       "Humidity                     1.25  \n",
       "Weather Condition           -0.70  \n",
       "Wind Direction               1.70  "
      ]
     },
     "execution_count": 38,
     "metadata": {},
     "output_type": "execute_result"
    }
   ],
   "source": [
    "df.cov()"
   ]
  },
  {
   "cell_type": "code",
   "execution_count": null,
   "id": "eabf1014-e181-4d72-a01c-ed0e79ba5224",
   "metadata": {},
   "outputs": [],
   "source": []
  }
 ],
 "metadata": {
  "kernelspec": {
   "display_name": "Python 3 (ipykernel)",
   "language": "python",
   "name": "python3"
  },
  "language_info": {
   "codemirror_mode": {
    "name": "ipython",
    "version": 3
   },
   "file_extension": ".py",
   "mimetype": "text/x-python",
   "name": "python",
   "nbconvert_exporter": "python",
   "pygments_lexer": "ipython3",
   "version": "3.10.8"
  }
 },
 "nbformat": 4,
 "nbformat_minor": 5
}
