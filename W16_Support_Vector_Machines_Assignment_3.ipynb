{
  "nbformat": 4,
  "nbformat_minor": 0,
  "metadata": {
    "colab": {
      "provenance": []
    },
    "kernelspec": {
      "name": "python3",
      "display_name": "Python 3"
    },
    "language_info": {
      "name": "python"
    }
  },
  "cells": [
    {
      "cell_type": "markdown",
      "source": [
        "Q1. In order to predict house price based on several characteristics, such as location, square footage,\n",
        "number of bedrooms, etc., you are developing an SVM regression model. Which regression metric in this\n",
        "situation would be the best to employ?    \n",
        "Dataset link: https://drive.google.com/file/d/1Z9oLpmt6IDRNw7IeNcHYTGeJRYypRSC0/view?usp=share_link"
      ],
      "metadata": {
        "id": "GvhkWNSWrfNM"
      }
    },
    {
      "cell_type": "markdown",
      "source": [
        "### Choosing the Best Regression Metric for House Price Prediction\n",
        "\n",
        "When evaluating the performance of an SVM regression model for house price prediction, several metrics can be considered. The optimal choice depends on the specific goals and the nature of the data. Here are some of the most commonly used metrics:\n",
        "\n",
        "**1. Mean Squared Error (MSE):** Measures the average squared difference between predicted and actual values.            \n",
        "**2. Root Mean Squared Error (RMSE):** Square root of MSE.      \n",
        "**3. Mean Absolute Error (MAE):** Calculates the average absolute difference between predicted and actual values.           \n",
        "**4. R-squared (R²):** Measures the proportion of variance in the dependent variable (house price) explained by the independent variables."
      ],
      "metadata": {
        "id": "0PjqiieptaC7"
      }
    },
    {
      "cell_type": "code",
      "source": [],
      "metadata": {
        "id": "3oYLjaKZsf26"
      },
      "execution_count": null,
      "outputs": []
    },
    {
      "cell_type": "markdown",
      "source": [
        "Q2. You have built an SVM regression model and are trying to decide between using MSE or R-squared as\n",
        "your evaluation metric. Which metric would be more appropriate if your goal is to predict the actual price\n",
        "of a house as accurately as possible?"
      ],
      "metadata": {
        "id": "9qHFwOTUrk6I"
      }
    },
    {
      "cell_type": "markdown",
      "source": [
        "For the goal of predicting the actual price of a house as accurately as possible, Mean Squared Error (MSE) would be a more appropriate evaluation metric than R-squared.\n",
        "\n",
        "Here's why:    \n",
        "**Mean Squared Error (MSE):**\n",
        "- MSE quantifies the average squared difference between the predicted and actual values. A lower MSE indicates a more accurate model.\n",
        "- MSE penalizes larger errors more heavily, making it suitable for scenarios where accurate predictions are crucial, such as house price prediction.\n",
        "\n",
        "**R-squared:**\n",
        "\n",
        "- R-squared measures the proportion of variance in the dependent variable (house price) explained by the independent variables.\n",
        "- While a high R-squared indicates a good fit to the training data, it doesn't directly measure prediction accuracy. It's possible to have a high R-squared but still have large prediction errors."
      ],
      "metadata": {
        "id": "dQd4kk7iuGDt"
      }
    },
    {
      "cell_type": "code",
      "source": [],
      "metadata": {
        "id": "7CoqiRQqsgsQ"
      },
      "execution_count": null,
      "outputs": []
    },
    {
      "cell_type": "markdown",
      "source": [
        "Q3. You have a dataset with a significant number of outliers and are trying to select an appropriate\n",
        "regression metric to use with your SVM model. Which metric would be the most appropriate in this\n",
        "scenario?"
      ],
      "metadata": {
        "id": "heCzaUM8rxt-"
      }
    },
    {
      "cell_type": "markdown",
      "source": [
        "When dealing with a dataset containing a significant number of outliers, it's crucial to choose a regression metric that is less sensitive to outliers. Here are strong candidate:\n",
        "\n",
        "**Mean Absolute Error (MAE):**\n",
        "- MAE calculates the average absolute difference between the predicted and actual values. As it doesn't square the errors, it's less affected by extreme values.\n",
        "- MAE provides the average magnitude of error in the same units as the target variable, making it easier to understand."
      ],
      "metadata": {
        "id": "QskjNXKMupdf"
      }
    },
    {
      "cell_type": "code",
      "source": [],
      "metadata": {
        "id": "DF69Xul_shS5"
      },
      "execution_count": null,
      "outputs": []
    },
    {
      "cell_type": "markdown",
      "source": [
        "Q4. You have built an SVM regression model using a polynomial kernel and are trying to select the best\n",
        "metric to evaluate its performance. You have calculated both MSE and RMSE and found that both values\n",
        "are very close. Which metric should you choose to use in this case?"
      ],
      "metadata": {
        "id": "3s56RfuurkuP"
      }
    },
    {
      "cell_type": "markdown",
      "source": [
        "When both MSE and RMSE are very close, either one can be used to evaluate the model's performance.\n",
        "\n",
        "However, there are some nuances to consider:  \n",
        "\n",
        "**RMSE:**\n",
        "- RMSE is often preferred because it's in the same units as the target variable. This makes it easier to understand the magnitude of the errors.\n",
        "- Like MSE, RMSE is sensitive to outliers. However, since it takes the square root of the squared errors, it might be less sensitive to extremely large outliers.\n",
        "\n",
        "**MSE:**\n",
        "- MSE is mathematically simpler to calculate and interpret.\n",
        "- MSE is more sensitive to outliers than RMSE. Large outliers can significantly impact the overall error.\n",
        "\n",
        "In this specific case, given the close values of MSE and RMSE, either metric can be used. However, if you prioritize interpretability and want a metric that is slightly less sensitive to outliers, RMSE would be a good choice."
      ],
      "metadata": {
        "id": "hGyHnQfzvLQq"
      }
    },
    {
      "cell_type": "code",
      "source": [],
      "metadata": {
        "id": "OYgTBLCwsh_5"
      },
      "execution_count": null,
      "outputs": []
    },
    {
      "cell_type": "markdown",
      "source": [
        "Q5. You are comparing the performance of different SVM regression models using different kernels (linear,\n",
        "polynomial, and RBF) and are trying to select the best evaluation metric. Which metric would be most\n",
        "appropriate if your goal is to measure how well the model explains the variance in the target variable?"
      ],
      "metadata": {
        "id": "P1EsaK37rkkN"
      }
    },
    {
      "cell_type": "markdown",
      "source": [
        "R-squared (R²) is the most appropriate metric to measure how well a model explains the variance in the target variable.\n",
        "\n",
        "**Why R-squared?**\n",
        "- R-squared represents the proportion of the variance in the dependent variable (target variable) that is explained by the independent variables (features) in the model.\n",
        "- It's easy to compare the performance of different models using R-squared. A higher R-squared indicates a better fit, meaning the model explains more of the variance in the target variable."
      ],
      "metadata": {
        "id": "SWhxThYlrkZS"
      }
    },
    {
      "cell_type": "code",
      "source": [],
      "metadata": {
        "id": "QJKCjfpxrjfx"
      },
      "execution_count": null,
      "outputs": []
    }
  ]
}