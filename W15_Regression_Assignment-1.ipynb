{
 "cells": [
  {
   "cell_type": "markdown",
   "id": "f779bf89-a75c-4055-90d8-ab814aaf7834",
   "metadata": {},
   "source": [
    "Q1. Explain the difference between simple linear regression and multiple linear regression. Provide an\n",
    "example of each."
   ]
  },
  {
   "cell_type": "markdown",
   "id": "860d1eb3-f687-4623-a110-1b0a59e51d77",
   "metadata": {},
   "source": [
    "#### Answer -"
   ]
  },
  {
   "cell_type": "markdown",
   "id": "267e0a64-4353-441e-8095-9cee32849f95",
   "metadata": {},
   "source": [
    "Simple linear regression is a statistical method used to understand the relationship between two continuous variables: one independent variable (predictor) and one dependent variable (response). Multiple linear regression is an extension of simple linear regression that allows for more than one independent variable."
   ]
  },
  {
   "cell_type": "markdown",
   "id": "f1387d27-c5d0-492c-be2a-789f8458812e",
   "metadata": {},
   "source": [
    "Q2. Discuss the assumptions of linear regression. How can you check whether these assumptions hold in\n",
    "a given dataset?"
   ]
  },
  {
   "cell_type": "markdown",
   "id": "89df0986-e81c-443c-baa1-c1ada63ae28f",
   "metadata": {},
   "source": [
    "#### Answer -"
   ]
  },
  {
   "cell_type": "markdown",
   "id": "aa54b1c2-f5b7-45cb-afd5-766cb8834306",
   "metadata": {},
   "source": [
    "### Assumptions of Linear Regression\n",
    "- **Linearity:** The relationship between the independent variables and the dependent variable is linear. This means that the change in the dependent variable is proportional to the change in the independent variables.\n",
    "\n",
    "- **Independence:** Observations are independent of each other. There should be no correlation between the residuals (errors) of the observations.\n",
    "\n",
    "- **Homoscedasticity:** The residuals (errors) have constant variance at every level of the independent variable(s). This means that the spread of the residuals should be the same across all values of the independent variables.\n",
    "\n",
    "- **Normality of Residuals:** The residuals of the model are normally distributed. This is particularly important for constructing confidence intervals and hypothesis testing."
   ]
  },
  {
   "cell_type": "markdown",
   "id": "fed0c7f0-e0e8-4aa9-b01d-d90630af16a0",
   "metadata": {},
   "source": [
    "Q3. How do you interpret the slope and intercept in a linear regression model? Provide an example using\n",
    "a real-world scenario."
   ]
  },
  {
   "cell_type": "markdown",
   "id": "72bfc02e-4ccd-41f3-9864-649806564bd6",
   "metadata": {},
   "source": []
  },
  {
   "cell_type": "markdown",
   "id": "9e9d6109-3e7b-4b1a-bd7d-ed7917e118e8",
   "metadata": {},
   "source": [
    "Q4. Explain the concept of gradient descent. How is it used in machine learning?"
   ]
  },
  {
   "cell_type": "markdown",
   "id": "045541ae-0e4b-4f7f-b065-e5efa6b6717a",
   "metadata": {},
   "source": [
    "#### Answer -"
   ]
  },
  {
   "cell_type": "markdown",
   "id": "9aa11569-9f98-4ad3-ba32-f0555390a6b7",
   "metadata": {},
   "source": [
    "Gradient descent is an optimization algorithm used to minimize a function by iteratively moving towards the steepest descent direction as defined by the negative of the gradient. In the context of machine learning, it is primarily used to minimize the cost function, which measures the error between predicted and actual values.\n",
    "\n",
    "### Use in Machine Learning\n",
    "Gradient descent is widely used in machine learning for training models, particularly for supervised learning tasks. Here are a few key applications:\n",
    "\n",
    "**Linear Regression:** Gradient descent minimizes the mean squared error between predicted and actual values, adjusting the weights to fit the best linear relationship.\n",
    "\n",
    "**Logistic Regression:** Gradient descent optimizes the cost function (e.g., cross-entropy loss) to fit a model for binary classification tasks."
   ]
  },
  {
   "cell_type": "markdown",
   "id": "408e7f9e-1b44-4738-9143-21381a7ed8ee",
   "metadata": {},
   "source": [
    "Q5. Describe the multiple linear regression model. How does it differ from simple linear regression?"
   ]
  },
  {
   "cell_type": "markdown",
   "id": "b4a060e2-f01a-4a7e-9d6d-12584acc00a9",
   "metadata": {},
   "source": [
    "#### Answer -"
   ]
  },
  {
   "cell_type": "markdown",
   "id": "a71698ec-d31c-4b9a-8bc3-d51705449426",
   "metadata": {},
   "source": [
    "Multiple linear regression is an extension of simple linear regression that allows for more than one independent variable. This method models the relationship between a dependent variable and two or more independent variables using a linear equation.     \n",
    "\n",
    "#### Differences Between Simple and Multiple Linear Regression   \n",
    "\n",
    "**1. Number of Independent Variables:**\n",
    "- **Simple Linear Regression:** Involves only one independent variable.\n",
    "- **Multiple Linear Regression:** Involves two or more independent variables.\n",
    "\n",
    "**2. Complexity:**\n",
    "- **Simple Linear Regression:** Easier to interpret and visualize since it involves a single predictor.\n",
    "- **Multiple Linear Regression:** More complex due to multiple predictors, requiring more sophisticated techniques for interpretation and visualization.\n",
    "\n",
    "**3. Use Cases:**\n",
    "- **Simple Linear Regression:** Suitable when the relationship between a single predictor and the outcome is of interest.\n",
    "- **Multiple Linear Regression:** Suitable when the outcome is influenced by several predictors and we want to understand their individual contributions and control for confounding variables."
   ]
  },
  {
   "cell_type": "markdown",
   "id": "e9beb72f-43d3-47c6-9bb6-d73b2fdc543f",
   "metadata": {},
   "source": [
    "Q6. Explain the concept of multicollinearity in multiple linear regression. How can you detect and\n",
    "address this issue?"
   ]
  },
  {
   "cell_type": "markdown",
   "id": "ae4442f8-30d5-4e46-910d-ed139f062bf8",
   "metadata": {},
   "source": []
  },
  {
   "cell_type": "markdown",
   "id": "1dc50e35-82fb-4aa3-96c6-364e0bec1d58",
   "metadata": {},
   "source": [
    "Q7. Describe the polynomial regression model. How is it different from linear regression?"
   ]
  },
  {
   "cell_type": "markdown",
   "id": "e1888f72-2697-4e47-ad0e-5a42944e147a",
   "metadata": {},
   "source": [
    "#### Answer -"
   ]
  },
  {
   "cell_type": "markdown",
   "id": "ee87b266-85d2-4eb1-aca7-a38cb8aba83f",
   "metadata": {},
   "source": [
    "Polynomial regression is a type of regression analysis in which the relationship between the independent variable x and the dependent variable y is modeled as an nth-degree polynomial. This allows for the modeling of non-linear relationships between the variables. "
   ]
  },
  {
   "cell_type": "markdown",
   "id": "6ca7a734-ba17-4b3a-a5c3-df9067711b19",
   "metadata": {},
   "source": [
    "### Differences from Linear Regression\n",
    "**Nature of Relationship:**\n",
    "- **Linear Regression:** Assumes a linear relationship between the independent and dependent variables.\n",
    "- **Polynomial Regression:** Can model non-linear relationships, capturing more complex patterns in the data.\n",
    "\n",
    "**Flexibility:**\n",
    "- **Linear Regression:** Limited to linear relationships.\n",
    "- **Polynomial Regression:** More flexible, as it can fit curves and more intricate data patterns by including higher-degree polynomial terms.\n",
    "\n",
    "**Overfitting:**\n",
    "- **Linear Regression:** Less prone to overfitting due to its simplicity.\n",
    "- **Polynomial Regression:** Higher-degree polynomials can overfit the data, capturing noise instead of the underlying trend."
   ]
  },
  {
   "cell_type": "markdown",
   "id": "4fe9b5bd-0970-4f58-9b3a-0653d1b7f075",
   "metadata": {},
   "source": [
    "Q8. What are the advantages and disadvantages of polynomial regression compared to linear\n",
    "regression? In what situations would you prefer to use polynomial regression?"
   ]
  },
  {
   "cell_type": "markdown",
   "id": "26a8c528-4d16-4894-8e30-d9e7fab86aa4",
   "metadata": {},
   "source": [
    "#### Answer -"
   ]
  },
  {
   "cell_type": "markdown",
   "id": "9551889f-d6ff-43a6-af55-37c2a43ce63e",
   "metadata": {},
   "source": [
    "### Advantages of Polynomial Regression\n",
    "- **Flexibility in Modeling Non-linear Relationships:** Polynomial regression can capture complex, non-linear relationships between the independent and dependent variables, which linear regression cannot.\n",
    "- **Improved Fit for Curved Data:** Polynomial regression can provide a better fit for data that follows a curved pattern, leading to more accurate predictions and insights.\n",
    "- **Higher Degrees of Freedom:** By adding polynomial terms, the model has more parameters, allowing it to fit the data more closely.\n",
    "\n",
    "\n",
    "### Disadvantages of Polynomial Regression\n",
    "- **Risk of Overfitting:** Higher-degree polynomial models can fit the training data too closely, capturing noise rather than the underlying pattern. This leads to poor generalization to new, unseen data.\n",
    "- **Complexity in Interpretation:** As the degree of the polynomial increases, the model becomes more complex and harder to interpret. Understanding the impact of each term on the dependent variable can be challenging.\n",
    "- **Extrapolation Issues:** Polynomial models can behave erratically outside the range of the training data, making predictions in these regions unreliable.\n",
    "\n",
    "### Situations to Prefer Polynomial Regression\n",
    "- **Non-linear Relationship:** When there is a clear non-linear relationship between the independent and dependent variables that a linear model cannot adequately capture.\n",
    "- **Curved Patterns in Data:** When visual inspection of scatter plots suggests a curved pattern that a polynomial model can fit better.\n",
    "- **Improving Model Performance:** When a linear model's performance is insufficient, and adding polynomial terms improves the model's accuracy and fit to the data."
   ]
  },
  {
   "cell_type": "code",
   "execution_count": null,
   "id": "4af71eb8-a48b-47f1-9edf-580d5495ec56",
   "metadata": {},
   "outputs": [],
   "source": []
  }
 ],
 "metadata": {
  "kernelspec": {
   "display_name": "Python 3 (ipykernel)",
   "language": "python",
   "name": "python3"
  },
  "language_info": {
   "codemirror_mode": {
    "name": "ipython",
    "version": 3
   },
   "file_extension": ".py",
   "mimetype": "text/x-python",
   "name": "python",
   "nbconvert_exporter": "python",
   "pygments_lexer": "ipython3",
   "version": "3.10.8"
  }
 },
 "nbformat": 4,
 "nbformat_minor": 5
}
