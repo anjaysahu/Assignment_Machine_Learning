{
  "nbformat": 4,
  "nbformat_minor": 0,
  "metadata": {
    "colab": {
      "provenance": []
    },
    "kernelspec": {
      "name": "python3",
      "display_name": "Python 3"
    },
    "language_info": {
      "name": "python"
    }
  },
  "cells": [
    {
      "cell_type": "markdown",
      "source": [
        "Q1. Explain the basic concept of clustering and give examples of applications where clustering is useful.\n"
      ],
      "metadata": {
        "id": "XJSW1YJ2SDZc"
      }
    },
    {
      "cell_type": "markdown",
      "source": [
        "Clustering is a machine learning technique that involves grouping similar data points together. It's like sorting objects into categories based on their characteristics. In data mining, clustering helps discover underlying patterns and structures within data.\n",
        "\n",
        "**Applications of Clustering:**\n",
        "- Customer Segmentation: Grouping customers based on their purchasing behavior, demographics, or other factors to tailor marketing strategies.\n",
        "- Image Segmentation: Identifying different objects or regions within an image.\n",
        "- Document Clustering: Grouping similar documents together for information retrieval and organization."
      ],
      "metadata": {
        "id": "Oii9KyKPSDU1"
      }
    },
    {
      "cell_type": "markdown",
      "source": [
        "Q2. What is DBSCAN and how does it differ from other clustering algorithms such as k-means and\n",
        "hierarchical clustering?"
      ],
      "metadata": {
        "id": "BfuViqpCSDRd"
      }
    },
    {
      "cell_type": "markdown",
      "source": [
        "DBSCAN (Density-Based Spatial Clustering of Applications with Noise) is a clustering algorithm that groups together points that are closely packed together (i.e., have a high density) and marks outliers as noise.    \n",
        "\n",
        "**Key Differences from Other Algorithms:**\n",
        "- Density-Based: Unlike k-means and hierarchical clustering, DBSCAN doesn't require specifying the number of clusters beforehand. It identifies clusters based on density, making it more flexible.\n",
        "- Noise Handling: DBSCAN explicitly handles noise points, which are data points that don't belong to any cluster."
      ],
      "metadata": {
        "id": "KG7FZDRQSDP5"
      }
    },
    {
      "cell_type": "markdown",
      "source": [
        "Q3. How do you determine the optimal values for the epsilon and minimum points parameters in DBSCAN\n",
        "clustering?\n"
      ],
      "metadata": {
        "id": "9IUmOtIMSDL7"
      }
    },
    {
      "cell_type": "markdown",
      "source": [
        "Determining the optimal values for epsilon (ε) and minimum points (minPts) in DBSCAN can significantly impact the clustering results. Here are some common techniques:\n",
        "\n",
        "**Domain Knowledge:**\n",
        "- Leverage domain expertise to set reasonable values based on the data's characteristics and the desired cluster granularity.\n",
        "- Distance-Based Methods:      \n",
        "Knee Plot: Plot the number of points reachable from each point as a function of ε. The \"knee\" in the plot often indicates an appropriate ε value."
      ],
      "metadata": {
        "id": "aEw4jS8RSDJc"
      }
    },
    {
      "cell_type": "markdown",
      "source": [
        "Q4. How does DBSCAN clustering handle outliers in a dataset?"
      ],
      "metadata": {
        "id": "6YXst1OGSDFq"
      }
    },
    {
      "cell_type": "markdown",
      "source": [
        "DBSCAN effectively handles outliers by classifying them as noise points. These are data points that do not belong to any cluster, as they are not densely packed with other points.\n",
        "\n",
        "**Here's how DBSCAN identifies outliers:**\n",
        "- Core Points: Points that have at least minPts points within a radius of ε.\n",
        "- Border Points: Points that are not core points but are reachable from core points.\n",
        "- Noise Points: Points that are neither core nor border points, indicating they are outliers."
      ],
      "metadata": {
        "id": "5XEL8Y5GSDEW"
      }
    },
    {
      "cell_type": "markdown",
      "source": [
        "Q5. How does DBSCAN clustering differ from k-means clustering?\n"
      ],
      "metadata": {
        "id": "lCmuLvxeSDAk"
      }
    },
    {
      "cell_type": "markdown",
      "source": [
        "DBSCAN and K-Means are two popular clustering algorithms, but they differ significantly in their approaches:\n",
        "\n",
        "**DBSCAN :**\n",
        "- Can handle arbitrary shapes.\n",
        "- Explicitly handles noise points.\n",
        "- Groups points based on density.\n",
        "\n",
        "**K-Means :**\n",
        "- Assumes spherical clusters.\n",
        "- Requires specifying the number of clusters (K).\n",
        "- Groups points based on distance to centroids."
      ],
      "metadata": {
        "id": "w6IxE2lcSC-i"
      }
    },
    {
      "cell_type": "markdown",
      "source": [
        "Q6. Can DBSCAN clustering be applied to datasets with high dimensional feature spaces? If so, what are\n",
        "some potential challenges?"
      ],
      "metadata": {
        "id": "7bQgWV9BSC7C"
      }
    },
    {
      "cell_type": "markdown",
      "source": [
        "While DBSCAN can be applied to high-dimensional datasets, it faces certain challenges:\n",
        "\n",
        "- Curse of Dimensionality: As the number of dimensions increases, the distance between points becomes less meaningful, making it difficult to define a suitable ε value.\n",
        "- Computational Complexity: In high-dimensional spaces, calculating distances between points becomes computationally expensive, especially for large datasets.\n",
        "- Difficulty in Visualizing: It becomes challenging to visualize and interpret clusters in high-dimensional spaces."
      ],
      "metadata": {
        "id": "d-d7kNbeSC5G"
      }
    },
    {
      "cell_type": "markdown",
      "source": [
        "Q7. How does DBSCAN clustering handle clusters with varying densities?\n"
      ],
      "metadata": {
        "id": "cG2e1mLsUj2P"
      }
    },
    {
      "cell_type": "markdown",
      "source": [
        "DBSCAN is well-suited to handle clusters with varying densities. It identifies clusters based on the concept of density-reachability, which allows it to capture clusters of different sizes and densities.\n",
        "\n",
        "- Core Points: These are points that have a minimum number of points (minPts) within a specified radius (ε). They form the core of a cluster.\n",
        "- Noise Points: Points that are not reachable from any core point and are considered outliers."
      ],
      "metadata": {
        "id": "gDoV4aM1UjzE"
      }
    },
    {
      "cell_type": "markdown",
      "source": [
        "Q8. What are some common evaluation metrics used to assess the quality of DBSCAN clustering results?\n"
      ],
      "metadata": {
        "id": "70wkqLwDUjv_"
      }
    },
    {
      "cell_type": "markdown",
      "source": [
        "Evaluating the quality of DBSCAN clustering can be challenging due to its ability to handle arbitrary cluster shapes and noise points. Here are some common metrics:     \n",
        "\n",
        "Silhouette Coefficient: Measures how similar a data point is to its own cluster compared to other clusters. A higher Silhouette Coefficient indicates better-defined clusters."
      ],
      "metadata": {
        "id": "l_NCs4CQUjtc"
      }
    },
    {
      "cell_type": "markdown",
      "source": [
        "Q9. Can DBSCAN clustering be used for semi-supervised learning tasks?"
      ],
      "metadata": {
        "id": "M8047zngUjqn"
      }
    },
    {
      "cell_type": "markdown",
      "source": [
        "While DBSCAN is primarily an unsupervised learning algorithm, it can be used to inform semi-supervised learning tasks in certain scenarios."
      ],
      "metadata": {
        "id": "tIw8793eUjnZ"
      }
    },
    {
      "cell_type": "markdown",
      "source": [
        "Q10. How does DBSCAN clustering handle datasets with noise or missing values?\n"
      ],
      "metadata": {
        "id": "Sz-dGq4ZUjjd"
      }
    },
    {
      "cell_type": "markdown",
      "source": [
        "**Noise:**\n",
        "- DBSCAN explicitly handles noise points. It identifies data points that do not belong to any dense cluster and classifies them as noise.\n",
        "- The minPts and ε parameters play a crucial role in noise identification. By adjusting these parameters, you can control the sensitivity of DBSCAN to noise.\n",
        "\n",
        "**Missing Values:**\n",
        "- Imputation: Before applying DBSCAN, it's recommended to handle missing values. Common techniques include:     \n",
        "Mean/Median Imputation         \n",
        "Mode Imputation         \n",
        "\n",
        "**Feature Engineering:** If missing values are frequent or have specific patterns, consider creating new features to capture the missingness information."
      ],
      "metadata": {
        "id": "6BTEbxBSUjhF"
      }
    },
    {
      "cell_type": "markdown",
      "source": [
        "Q11. Implement the DBSCAN algorithm using a python programming language, and apply it to a sample\n",
        "dataset. Discuss the clustering results and interpret the meaning of the obtained clusters."
      ],
      "metadata": {
        "id": "B6MGLyKTVRdt"
      }
    },
    {
      "cell_type": "code",
      "source": [
        "from sklearn.cluster import DBSCAN\n",
        "from sklearn.datasets import make_moons\n",
        "import matplotlib.pyplot as plt"
      ],
      "metadata": {
        "id": "PWNn0qG1UjG0"
      },
      "execution_count": 1,
      "outputs": []
    },
    {
      "cell_type": "code",
      "execution_count": 2,
      "metadata": {
        "id": "E_-eG4jpQ2m4"
      },
      "outputs": [],
      "source": [
        "X,y = make_moons(n_samples=500, noise= 0.10, random_state= 42)"
      ]
    },
    {
      "cell_type": "code",
      "source": [
        "plt.scatter(X[:,0],X[:,1])"
      ],
      "metadata": {
        "colab": {
          "base_uri": "https://localhost:8080/",
          "height": 447
        },
        "id": "0ADsf0ecWqDJ",
        "outputId": "775b5ba0-e2c2-402b-842d-9773c58ed78c"
      },
      "execution_count": 3,
      "outputs": [
        {
          "output_type": "execute_result",
          "data": {
            "text/plain": [
              "<matplotlib.collections.PathCollection at 0x7f31d7e9f640>"
            ]
          },
          "metadata": {},
          "execution_count": 3
        },
        {
          "output_type": "display_data",
          "data": {
            "text/plain": [
              "<Figure size 640x480 with 1 Axes>"
            ],
            "image/png": "[encoded data removed]"
          },
          "metadata": {}
        }
      ]
    },
    {
      "cell_type": "code",
      "source": [
        "##feature scaling(Standard Scaling)\n",
        "from sklearn.preprocessing import StandardScaler\n",
        "scaler=StandardScaler()"
      ],
      "metadata": {
        "id": "UADy9bxXW02Z"
      },
      "execution_count": 4,
      "outputs": []
    },
    {
      "cell_type": "code",
      "source": [
        "X_scaled = scaler.fit_transform(X)"
      ],
      "metadata": {
        "id": "B-lpzz1hXDgs"
      },
      "execution_count": 5,
      "outputs": []
    },
    {
      "cell_type": "code",
      "source": [
        "dbscan = DBSCAN(eps=0.3, min_samples=5)\n",
        "dbscan.fit(X_scaled)"
      ],
      "metadata": {
        "colab": {
          "base_uri": "https://localhost:8080/",
          "height": 80
        },
        "id": "ywiDMNgfXFD1",
        "outputId": "14dca8a8-bc43-4450-ae3b-a945cd3d9a02"
      },
      "execution_count": 6,
      "outputs": [
        {
          "output_type": "execute_result",
          "data": {
            "text/plain": [
              "DBSCAN(eps=0.3)"
            ],
            "text/html": [
              "<style>#sk-container-id-1 {\n",
              "  /* Definition of color scheme common for light and dark mode */\n",
              "  --sklearn-color-text: black;\n",
              "  --sklearn-color-line: gray;\n",
              "  /* Definition of color scheme for unfitted estimators */\n",
              "  --sklearn-color-unfitted-level-0: #fff5e6;\n",
              "  --sklearn-color-unfitted-level-1: #f6e4d2;\n",
              "  --sklearn-color-unfitted-level-2: #ffe0b3;\n",
              "  --sklearn-color-unfitted-level-3: chocolate;\n",
              "  /* Definition of color scheme for fitted estimators */\n",
              "  --sklearn-color-fitted-level-0: #f0f8ff;\n",
              "  --sklearn-color-fitted-level-1: #d4ebff;\n",
              "  --sklearn-color-fitted-level-2: #b3dbfd;\n",
              "  --sklearn-color-fitted-level-3: cornflowerblue;\n",
              "\n",
              "  /* Specific color for light theme */\n",
              "  --sklearn-color-text-on-default-background: var(--sg-text-color, var(--theme-code-foreground, var(--jp-content-font-color1, black)));\n",
              "  --sklearn-color-background: var(--sg-background-color, var(--theme-background, var(--jp-layout-color0, white)));\n",
              "  --sklearn-color-border-box: var(--sg-text-color, var(--theme-code-foreground, var(--jp-content-font-color1, black)));\n",
              "  --sklearn-color-icon: #696969;\n",
              "\n",
              "  @media (prefers-color-scheme: dark) {\n",
              "    /* Redefinition of color scheme for dark theme */\n",
              "    --sklearn-color-text-on-default-background: var(--sg-text-color, var(--theme-code-foreground, var(--jp-content-font-color1, white)));\n",
              "    --sklearn-color-background: var(--sg-background-color, var(--theme-background, var(--jp-layout-color0, #111)));\n",
              "    --sklearn-color-border-box: var(--sg-text-color, var(--theme-code-foreground, var(--jp-content-font-color1, white)));\n",
              "    --sklearn-color-icon: #878787;\n",
              "  }\n",
              "}\n",
              "\n",
              "#sk-container-id-1 {\n",
              "  color: var(--sklearn-color-text);\n",
              "}\n",
              "\n",
              "#sk-container-id-1 pre {\n",
              "  padding: 0;\n",
              "}\n",
              "\n",
              "#sk-container-id-1 input.sk-hidden--visually {\n",
              "  border: 0;\n",
              "  clip: rect(1px 1px 1px 1px);\n",
              "  clip: rect(1px, 1px, 1px, 1px);\n",
              "  height: 1px;\n",
              "  margin: -1px;\n",
              "  overflow: hidden;\n",
              "  padding: 0;\n",
              "  position: absolute;\n",
              "  width: 1px;\n",
              "}\n",
              "\n",
              "#sk-container-id-1 div.sk-dashed-wrapped {\n",
              "  border: 1px dashed var(--sklearn-color-line);\n",
              "  margin: 0 0.4em 0.5em 0.4em;\n",
              "  box-sizing: border-box;\n",
              "  padding-bottom: 0.4em;\n",
              "  background-color: var(--sklearn-color-background);\n",
              "}\n",
              "\n",
              "#sk-container-id-1 div.sk-container {\n",
              "  /* jupyter's `normalize.less` sets `[hidden] { display: none; }`\n",
              "     but bootstrap.min.css set `[hidden] { display: none !important; }`\n",
              "     so we also need the `!important` here to be able to override the\n",
              "     default hidden behavior on the sphinx rendered scikit-learn.org.\n",
              "     See: https://github.com/scikit-learn/scikit-learn/issues/21755 */\n",
              "  display: inline-block !important;\n",
              "  position: relative;\n",
              "}\n",
              "\n",
              "#sk-container-id-1 div.sk-text-repr-fallback {\n",
              "  display: none;\n",
              "}\n",
              "\n",
              "div.sk-parallel-item,\n",
              "div.sk-serial,\n",
              "div.sk-item {\n",
              "  /* draw centered vertical line to link estimators */\n",
              "  background-image: linear-gradient(var(--sklearn-color-text-on-default-background), var(--sklearn-color-text-on-default-background));\n",
              "  background-size: 2px 100%;\n",
              "  background-repeat: no-repeat;\n",
              "  background-position: center center;\n",
              "}\n",
              "\n",
              "/* Parallel-specific style estimator block */\n",
              "\n",
              "#sk-container-id-1 div.sk-parallel-item::after {\n",
              "  content: \"\";\n",
              "  width: 100%;\n",
              "  border-bottom: 2px solid var(--sklearn-color-text-on-default-background);\n",
              "  flex-grow: 1;\n",
              "}\n",
              "\n",
              "#sk-container-id-1 div.sk-parallel {\n",
              "  display: flex;\n",
              "  align-items: stretch;\n",
              "  justify-content: center;\n",
              "  background-color: var(--sklearn-color-background);\n",
              "  position: relative;\n",
              "}\n",
              "\n",
              "#sk-container-id-1 div.sk-parallel-item {\n",
              "  display: flex;\n",
              "  flex-direction: column;\n",
              "}\n",
              "\n",
              "#sk-container-id-1 div.sk-parallel-item:first-child::after {\n",
              "  align-self: flex-end;\n",
              "  width: 50%;\n",
              "}\n",
              "\n",
              "#sk-container-id-1 div.sk-parallel-item:last-child::after {\n",
              "  align-self: flex-start;\n",
              "  width: 50%;\n",
              "}\n",
              "\n",
              "#sk-container-id-1 div.sk-parallel-item:only-child::after {\n",
              "  width: 0;\n",
              "}\n",
              "\n",
              "/* Serial-specific style estimator block */\n",
              "\n",
              "#sk-container-id-1 div.sk-serial {\n",
              "  display: flex;\n",
              "  flex-direction: column;\n",
              "  align-items: center;\n",
              "  background-color: var(--sklearn-color-background);\n",
              "  padding-right: 1em;\n",
              "  padding-left: 1em;\n",
              "}\n",
              "\n",
              "\n",
              "/* Toggleable style: style used for estimator/Pipeline/ColumnTransformer box that is\n",
              "clickable and can be expanded/collapsed.\n",
              "- Pipeline and ColumnTransformer use this feature and define the default style\n",
              "- Estimators will overwrite some part of the style using the `sk-estimator` class\n",
              "*/\n",
              "\n",
              "/* Pipeline and ColumnTransformer style (default) */\n",
              "\n",
              "#sk-container-id-1 div.sk-toggleable {\n",
              "  /* Default theme specific background. It is overwritten whether we have a\n",
              "  specific estimator or a Pipeline/ColumnTransformer */\n",
              "  background-color: var(--sklearn-color-background);\n",
              "}\n",
              "\n",
              "/* Toggleable label */\n",
              "#sk-container-id-1 label.sk-toggleable__label {\n",
              "  cursor: pointer;\n",
              "  display: block;\n",
              "  width: 100%;\n",
              "  margin-bottom: 0;\n",
              "  padding: 0.5em;\n",
              "  box-sizing: border-box;\n",
              "  text-align: center;\n",
              "}\n",
              "\n",
              "#sk-container-id-1 label.sk-toggleable__label-arrow:before {\n",
              "  /* Arrow on the left of the label */\n",
              "  content: \"▸\";\n",
              "  float: left;\n",
              "  margin-right: 0.25em;\n",
              "  color: var(--sklearn-color-icon);\n",
              "}\n",
              "\n",
              "#sk-container-id-1 label.sk-toggleable__label-arrow:hover:before {\n",
              "  color: var(--sklearn-color-text);\n",
              "}\n",
              "\n",
              "/* Toggleable content - dropdown */\n",
              "\n",
              "#sk-container-id-1 div.sk-toggleable__content {\n",
              "  max-height: 0;\n",
              "  max-width: 0;\n",
              "  overflow: hidden;\n",
              "  text-align: left;\n",
              "  /* unfitted */\n",
              "  background-color: var(--sklearn-color-unfitted-level-0);\n",
              "}\n",
              "\n",
              "#sk-container-id-1 div.sk-toggleable__content.fitted {\n",
              "  /* fitted */\n",
              "  background-color: var(--sklearn-color-fitted-level-0);\n",
              "}\n",
              "\n",
              "#sk-container-id-1 div.sk-toggleable__content pre {\n",
              "  margin: 0.2em;\n",
              "  border-radius: 0.25em;\n",
              "  color: var(--sklearn-color-text);\n",
              "  /* unfitted */\n",
              "  background-color: var(--sklearn-color-unfitted-level-0);\n",
              "}\n",
              "\n",
              "#sk-container-id-1 div.sk-toggleable__content.fitted pre {\n",
              "  /* unfitted */\n",
              "  background-color: var(--sklearn-color-fitted-level-0);\n",
              "}\n",
              "\n",
              "#sk-container-id-1 input.sk-toggleable__control:checked~div.sk-toggleable__content {\n",
              "  /* Expand drop-down */\n",
              "  max-height: 200px;\n",
              "  max-width: 100%;\n",
              "  overflow: auto;\n",
              "}\n",
              "\n",
              "#sk-container-id-1 input.sk-toggleable__control:checked~label.sk-toggleable__label-arrow:before {\n",
              "  content: \"▾\";\n",
              "}\n",
              "\n",
              "/* Pipeline/ColumnTransformer-specific style */\n",
              "\n",
              "#sk-container-id-1 div.sk-label input.sk-toggleable__control:checked~label.sk-toggleable__label {\n",
              "  color: var(--sklearn-color-text);\n",
              "  background-color: var(--sklearn-color-unfitted-level-2);\n",
              "}\n",
              "\n",
              "#sk-container-id-1 div.sk-label.fitted input.sk-toggleable__control:checked~label.sk-toggleable__label {\n",
              "  background-color: var(--sklearn-color-fitted-level-2);\n",
              "}\n",
              "\n",
              "/* Estimator-specific style */\n",
              "\n",
              "/* Colorize estimator box */\n",
              "#sk-container-id-1 div.sk-estimator input.sk-toggleable__control:checked~label.sk-toggleable__label {\n",
              "  /* unfitted */\n",
              "  background-color: var(--sklearn-color-unfitted-level-2);\n",
              "}\n",
              "\n",
              "#sk-container-id-1 div.sk-estimator.fitted input.sk-toggleable__control:checked~label.sk-toggleable__label {\n",
              "  /* fitted */\n",
              "  background-color: var(--sklearn-color-fitted-level-2);\n",
              "}\n",
              "\n",
              "#sk-container-id-1 div.sk-label label.sk-toggleable__label,\n",
              "#sk-container-id-1 div.sk-label label {\n",
              "  /* The background is the default theme color */\n",
              "  color: var(--sklearn-color-text-on-default-background);\n",
              "}\n",
              "\n",
              "/* On hover, darken the color of the background */\n",
              "#sk-container-id-1 div.sk-label:hover label.sk-toggleable__label {\n",
              "  color: var(--sklearn-color-text);\n",
              "  background-color: var(--sklearn-color-unfitted-level-2);\n",
              "}\n",
              "\n",
              "/* Label box, darken color on hover, fitted */\n",
              "#sk-container-id-1 div.sk-label.fitted:hover label.sk-toggleable__label.fitted {\n",
              "  color: var(--sklearn-color-text);\n",
              "  background-color: var(--sklearn-color-fitted-level-2);\n",
              "}\n",
              "\n",
              "/* Estimator label */\n",
              "\n",
              "#sk-container-id-1 div.sk-label label {\n",
              "  font-family: monospace;\n",
              "  font-weight: bold;\n",
              "  display: inline-block;\n",
              "  line-height: 1.2em;\n",
              "}\n",
              "\n",
              "#sk-container-id-1 div.sk-label-container {\n",
              "  text-align: center;\n",
              "}\n",
              "\n",
              "/* Estimator-specific */\n",
              "#sk-container-id-1 div.sk-estimator {\n",
              "  font-family: monospace;\n",
              "  border: 1px dotted var(--sklearn-color-border-box);\n",
              "  border-radius: 0.25em;\n",
              "  box-sizing: border-box;\n",
              "  margin-bottom: 0.5em;\n",
              "  /* unfitted */\n",
              "  background-color: var(--sklearn-color-unfitted-level-0);\n",
              "}\n",
              "\n",
              "#sk-container-id-1 div.sk-estimator.fitted {\n",
              "  /* fitted */\n",
              "  background-color: var(--sklearn-color-fitted-level-0);\n",
              "}\n",
              "\n",
              "/* on hover */\n",
              "#sk-container-id-1 div.sk-estimator:hover {\n",
              "  /* unfitted */\n",
              "  background-color: var(--sklearn-color-unfitted-level-2);\n",
              "}\n",
              "\n",
              "#sk-container-id-1 div.sk-estimator.fitted:hover {\n",
              "  /* fitted */\n",
              "  background-color: var(--sklearn-color-fitted-level-2);\n",
              "}\n",
              "\n",
              "/* Specification for estimator info (e.g. \"i\" and \"?\") */\n",
              "\n",
              "/* Common style for \"i\" and \"?\" */\n",
              "\n",
              ".sk-estimator-doc-link,\n",
              "a:link.sk-estimator-doc-link,\n",
              "a:visited.sk-estimator-doc-link {\n",
              "  float: right;\n",
              "  font-size: smaller;\n",
              "  line-height: 1em;\n",
              "  font-family: monospace;\n",
              "  background-color: var(--sklearn-color-background);\n",
              "  border-radius: 1em;\n",
              "  height: 1em;\n",
              "  width: 1em;\n",
              "  text-decoration: none !important;\n",
              "  margin-left: 1ex;\n",
              "  /* unfitted */\n",
              "  border: var(--sklearn-color-unfitted-level-1) 1pt solid;\n",
              "  color: var(--sklearn-color-unfitted-level-1);\n",
              "}\n",
              "\n",
              ".sk-estimator-doc-link.fitted,\n",
              "a:link.sk-estimator-doc-link.fitted,\n",
              "a:visited.sk-estimator-doc-link.fitted {\n",
              "  /* fitted */\n",
              "  border: var(--sklearn-color-fitted-level-1) 1pt solid;\n",
              "  color: var(--sklearn-color-fitted-level-1);\n",
              "}\n",
              "\n",
              "/* On hover */\n",
              "div.sk-estimator:hover .sk-estimator-doc-link:hover,\n",
              ".sk-estimator-doc-link:hover,\n",
              "div.sk-label-container:hover .sk-estimator-doc-link:hover,\n",
              ".sk-estimator-doc-link:hover {\n",
              "  /* unfitted */\n",
              "  background-color: var(--sklearn-color-unfitted-level-3);\n",
              "  color: var(--sklearn-color-background);\n",
              "  text-decoration: none;\n",
              "}\n",
              "\n",
              "div.sk-estimator.fitted:hover .sk-estimator-doc-link.fitted:hover,\n",
              ".sk-estimator-doc-link.fitted:hover,\n",
              "div.sk-label-container:hover .sk-estimator-doc-link.fitted:hover,\n",
              ".sk-estimator-doc-link.fitted:hover {\n",
              "  /* fitted */\n",
              "  background-color: var(--sklearn-color-fitted-level-3);\n",
              "  color: var(--sklearn-color-background);\n",
              "  text-decoration: none;\n",
              "}\n",
              "\n",
              "/* Span, style for the box shown on hovering the info icon */\n",
              ".sk-estimator-doc-link span {\n",
              "  display: none;\n",
              "  z-index: 9999;\n",
              "  position: relative;\n",
              "  font-weight: normal;\n",
              "  right: .2ex;\n",
              "  padding: .5ex;\n",
              "  margin: .5ex;\n",
              "  width: min-content;\n",
              "  min-width: 20ex;\n",
              "  max-width: 50ex;\n",
              "  color: var(--sklearn-color-text);\n",
              "  box-shadow: 2pt 2pt 4pt #999;\n",
              "  /* unfitted */\n",
              "  background: var(--sklearn-color-unfitted-level-0);\n",
              "  border: .5pt solid var(--sklearn-color-unfitted-level-3);\n",
              "}\n",
              "\n",
              ".sk-estimator-doc-link.fitted span {\n",
              "  /* fitted */\n",
              "  background: var(--sklearn-color-fitted-level-0);\n",
              "  border: var(--sklearn-color-fitted-level-3);\n",
              "}\n",
              "\n",
              ".sk-estimator-doc-link:hover span {\n",
              "  display: block;\n",
              "}\n",
              "\n",
              "/* \"?\"-specific style due to the `<a>` HTML tag */\n",
              "\n",
              "#sk-container-id-1 a.estimator_doc_link {\n",
              "  float: right;\n",
              "  font-size: 1rem;\n",
              "  line-height: 1em;\n",
              "  font-family: monospace;\n",
              "  background-color: var(--sklearn-color-background);\n",
              "  border-radius: 1rem;\n",
              "  height: 1rem;\n",
              "  width: 1rem;\n",
              "  text-decoration: none;\n",
              "  /* unfitted */\n",
              "  color: var(--sklearn-color-unfitted-level-1);\n",
              "  border: var(--sklearn-color-unfitted-level-1) 1pt solid;\n",
              "}\n",
              "\n",
              "#sk-container-id-1 a.estimator_doc_link.fitted {\n",
              "  /* fitted */\n",
              "  border: var(--sklearn-color-fitted-level-1) 1pt solid;\n",
              "  color: var(--sklearn-color-fitted-level-1);\n",
              "}\n",
              "\n",
              "/* On hover */\n",
              "#sk-container-id-1 a.estimator_doc_link:hover {\n",
              "  /* unfitted */\n",
              "  background-color: var(--sklearn-color-unfitted-level-3);\n",
              "  color: var(--sklearn-color-background);\n",
              "  text-decoration: none;\n",
              "}\n",
              "\n",
              "#sk-container-id-1 a.estimator_doc_link.fitted:hover {\n",
              "  /* fitted */\n",
              "  background-color: var(--sklearn-color-fitted-level-3);\n",
              "}\n",
              "</style><div id=\"sk-container-id-1\" class=\"sk-top-container\"><div class=\"sk-text-repr-fallback\"><pre>DBSCAN(eps=0.3)</pre><b>In a Jupyter environment, please rerun this cell to show the HTML representation or trust the notebook. <br />On GitHub, the HTML representation is unable to render, please try loading this page with nbviewer.org.</b></div><div class=\"sk-container\" hidden><div class=\"sk-item\"><div class=\"sk-estimator fitted sk-toggleable\"><input class=\"sk-toggleable__control sk-hidden--visually\" id=\"sk-estimator-id-1\" type=\"checkbox\" checked><label for=\"sk-estimator-id-1\" class=\"sk-toggleable__label fitted sk-toggleable__label-arrow fitted\">&nbsp;&nbsp;DBSCAN<a class=\"sk-estimator-doc-link fitted\" rel=\"noreferrer\" target=\"_blank\" href=\"https://scikit-learn.org/1.5/modules/generated/sklearn.cluster.DBSCAN.html\">?<span>Documentation for DBSCAN</span></a><span class=\"sk-estimator-doc-link fitted\">i<span>Fitted</span></span></label><div class=\"sk-toggleable__content fitted\"><pre>DBSCAN(eps=0.3)</pre></div> </div></div></div></div>"
            ]
          },
          "metadata": {},
          "execution_count": 6
        }
      ]
    },
    {
      "cell_type": "code",
      "source": [
        "dbscan.labels_"
      ],
      "metadata": {
        "colab": {
          "base_uri": "https://localhost:8080/"
        },
        "id": "R4WN63caXWvy",
        "outputId": "b150b301-0bfd-4814-f330-138f097cf9b1"
      },
      "execution_count": 7,
      "outputs": [
        {
          "output_type": "execute_result",
          "data": {
            "text/plain": [
              "array([ 0,  1,  0,  1,  1,  0,  0,  1,  1,  0,  1,  1,  0,  1,  0,  0,  0,\n",
              "        1,  0,  0,  0,  0,  0,  0,  1,  0,  0,  1,  1,  0,  0,  0,  0,  1,\n",
              "        1,  0,  0,  1,  1,  1,  0,  1,  0,  1,  1,  1,  1,  1,  0,  1,  1,\n",
              "        1,  1,  0,  1,  1,  1,  1,  1,  1,  0,  0,  0,  0,  1,  1,  0,  1,\n",
              "        1,  0,  0,  0,  0,  0,  0,  0,  0,  1,  0,  0,  1,  1,  0,  1,  0,\n",
              "        1,  1,  0,  0,  0,  0,  0,  0,  0,  0,  0,  1,  1,  0,  1,  1,  0,\n",
              "        1,  0,  0,  1,  0,  1,  0,  1,  1,  0,  0,  1,  0,  0,  1,  1,  1,\n",
              "        1,  1,  1,  0,  1,  1,  1,  0,  1,  1,  0,  1,  1,  0,  0, -1,  1,\n",
              "        1,  1,  1,  0,  1,  1,  0,  1,  0,  0,  1,  1,  0,  0,  1,  1,  1,\n",
              "        1,  0,  0,  1,  1,  0,  1,  1,  0,  0,  1,  0,  0,  1,  1,  0,  1,\n",
              "        1,  1,  0,  1,  1,  1,  0,  1,  1,  0,  0,  1,  0,  0,  0,  1,  0,\n",
              "        1,  1,  1,  0,  0,  0,  0,  1,  1,  1,  1,  1,  0,  0,  1,  1,  1,\n",
              "        1,  1,  1,  1,  0,  0,  0,  1,  0,  0,  0,  0,  0,  1,  0,  1,  0,\n",
              "        0,  1,  1,  1,  0,  1,  0,  0,  1,  1,  1,  0,  1,  0,  0,  0,  1,\n",
              "        1,  1,  0,  1,  0,  1,  0,  1,  1,  1,  0,  1,  0,  0,  0,  1,  0,\n",
              "        0,  1,  0,  1,  0,  0,  1,  0,  1,  1,  1,  0,  1,  0,  1,  1,  1,\n",
              "        1,  0,  0,  0,  0,  0,  0,  1,  0,  1,  0,  1,  1,  0,  0,  0,  0,\n",
              "        0,  0,  0,  0,  0,  1,  1,  0,  0,  0,  0,  0,  1,  0,  1,  1,  1,\n",
              "        0,  1,  1,  1,  0,  1,  0,  0,  1,  0,  0,  1,  0,  0,  1,  0,  1,\n",
              "        0,  1,  0,  1,  1,  1,  0,  1,  1,  1,  1,  1,  1,  0,  0,  1,  1,\n",
              "        1,  1,  0,  0,  1,  1,  0,  0,  1,  0,  0,  0,  1,  0,  0,  1,  1,\n",
              "        0,  1,  1,  1,  0,  1,  1,  1,  1,  0,  0,  1,  0,  1,  0,  1,  0,\n",
              "        0,  1,  0,  1,  1,  1,  1,  0,  1,  0,  0,  1,  0,  1,  1,  1,  0,\n",
              "        0,  0,  1,  0,  0,  0,  0,  1,  1,  1,  0,  0,  0,  0,  0,  0,  0,\n",
              "        0,  1,  1,  1,  1,  0,  1,  0,  0,  1,  1,  0,  1,  0,  0,  1,  0,\n",
              "        1,  1,  1,  0,  0,  0,  1,  0,  0,  1,  0,  0,  1,  1,  0,  1,  0,\n",
              "        0,  1,  0,  0,  1,  0,  0,  0,  1,  1,  0,  1,  0,  1,  0,  1,  0,\n",
              "        1,  1,  1,  1,  0,  1,  0,  1,  0,  0,  1,  0,  0,  1,  0,  0,  0,\n",
              "        0,  0,  0,  1,  1,  1,  0,  1,  0,  1,  0,  0,  1,  0,  1,  0,  1,\n",
              "        1,  1,  1,  0,  0,  0,  1])"
            ]
          },
          "metadata": {},
          "execution_count": 7
        }
      ]
    },
    {
      "cell_type": "code",
      "source": [
        "plt.scatter(X_scaled[:,0],X_scaled[:,1], c = dbscan.labels_)"
      ],
      "metadata": {
        "colab": {
          "base_uri": "https://localhost:8080/",
          "height": 447
        },
        "id": "BSL2oIDdXZgN",
        "outputId": "f25ee880-a962-44bf-996b-d7fb57446984"
      },
      "execution_count": 8,
      "outputs": [
        {
          "output_type": "execute_result",
          "data": {
            "text/plain": [
              "<matplotlib.collections.PathCollection at 0x7f31d7e8c730>"
            ]
          },
          "metadata": {},
          "execution_count": 8
        },
        {
          "output_type": "display_data",
          "data": {
            "text/plain": [
              "<Figure size 640x480 with 1 Axes>"
            ],
            "image/png": "[encoded data removed]"
          },
          "metadata": {}
        }
      ]
    },
    {
      "cell_type": "code",
      "source": [],
      "metadata": {
        "id": "5f4GH6CxXlFe"
      },
      "execution_count": 8,
      "outputs": []
    }
  ]
}