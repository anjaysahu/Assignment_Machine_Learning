{
  "nbformat": 4,
  "nbformat_minor": 0,
  "metadata": {
    "colab": {
      "provenance": []
    },
    "kernelspec": {
      "name": "python3",
      "display_name": "Python 3"
    },
    "language_info": {
      "name": "python"
    }
  },
  "cells": [
    {
      "cell_type": "markdown",
      "source": [
        "Q1. What is Bayes' theorem?"
      ],
      "metadata": {
        "id": "LwKwPvhEsUdW"
      }
    },
    {
      "cell_type": "markdown",
      "source": [
        "Bayes' theorem is a mathematical rule for inverting conditional probabilities, allowing us to find the probability of a cause given its effect. In simpler terms, it helps us update our beliefs about something as we get new information."
      ],
      "metadata": {
        "id": "t9vc4aW5gRVo"
      }
    },
    {
      "cell_type": "markdown",
      "source": [
        "Q2. What is the formula for Bayes' theorem?"
      ],
      "metadata": {
        "id": "9YWY0bSZsVX2"
      }
    },
    {
      "cell_type": "markdown",
      "source": [
        "P(A/B) = P(A) * P(B/A)  / P(B)"
      ],
      "metadata": {
        "id": "VC3vILYggTx6"
      }
    },
    {
      "cell_type": "markdown",
      "source": [
        "Q3. How is Bayes' theorem used in practice?"
      ],
      "metadata": {
        "id": "Z87kSgdhsVU-"
      }
    },
    {
      "cell_type": "markdown",
      "source": [
        "- This statistical method uses Bayes' theorem to update beliefs about parameters as new data is observed.\n",
        "- Investors can use Bayes' theorem to evaluate the risk of investments by incorporating new information and updating their prior beliefs.\n",
        "- Meteorologists can use Bayesian methods to improve weather forecasts by incorporating historical data and real-time observations.\n",
        "- Cybersecurity systems use Bayesian methods to identify potential threats by analyzing patterns in network traffic and other data.\n",
        "-Marketers can use Bayes' theorem to identify target audiences and optimize advertising campaigns."
      ],
      "metadata": {
        "id": "nxIOCdddg1YG"
      }
    },
    {
      "cell_type": "markdown",
      "source": [
        "Q4. What is the relationship between Bayes' theorem and conditional probability?"
      ],
      "metadata": {
        "id": "a30OCgmEsVR7"
      }
    },
    {
      "cell_type": "markdown",
      "source": [
        "Bayes' theorem and conditional probability are closely related concepts. Here's how they are connected:    \n",
        "\n",
        "- **Conditional Probability:** Conditional probability is the probability of an event occurring, given that another event has already occurred. It's represented as P(A|B), which means the probability of A happening given that B has happened.       \n",
        "- **Bayes' Theorem:** Bayes' theorem is a formula that uses conditional probabilities to calculate the probability of a cause given its effect. It's essentially a way to update our beliefs about something as we get new information."
      ],
      "metadata": {
        "id": "bZuKgTnPhUuP"
      }
    },
    {
      "cell_type": "markdown",
      "source": [
        "Q5. How do you choose which type of Naive Bayes classifier to use for any given problem?"
      ],
      "metadata": {
        "id": "giPHwAVbsVOz"
      }
    },
    {
      "cell_type": "markdown",
      "source": [
        "Choosing the right type of Naive Bayes classifier depends on the nature of your data and the problem you're trying to solve.     \n",
        "\n",
        "**1. Gaussian Naive Bayes:**\n",
        "- Continuous numerical features.\n",
        "- Features follow a Gaussian (normal) distribution.   \n",
        "\n",
        "**2. Multinomial Naive Bayes:**\n",
        "- Discrete features representing frequencies or counts.\n",
        "- Features follow a multinomial distribution.    \n",
        "\n",
        "**3. Bernoulli Naive Bayes:**\n",
        "- Binary features (0 or 1).\n",
        "- Features follow a Bernoulli distribution."
      ],
      "metadata": {
        "id": "S8wNyeHwiCna"
      }
    },
    {
      "cell_type": "markdown",
      "source": [
        "Q6. Assignment:      \n",
        "You have a dataset with two features, X1 and X2, and two possible classes, A and B. You want to use Naive\n",
        "Bayes to classify a new instance with features X1 = 3 and X2 = 4. The following table shows the frequency of\n",
        "each feature value for each class:"
      ],
      "metadata": {
        "id": "V-pB9m21sVLI"
      }
    },
    {
      "cell_type": "markdown",
      "source": [
        "Class X1=1 X1=2 X1=3 X2=1 X2=2 X2=3 X2=4            \n",
        "A 3 3 4 4 3 3 3              \n",
        "B 2 2 1 2 2 2 3             \n",
        "Assuming equal prior probabilities for each class, which class would Naive Bayes predict the new instance\n",
        "to belong to?"
      ],
      "metadata": {
        "id": "IZ8JGtCIsVGZ"
      }
    }
  ]
}